{
 "cells": [
  {
   "cell_type": "markdown",
   "metadata": {},
   "source": [
    "Multiple linear regression (MLR), also known as multiple regression, is a statistical technique that uses several features / variables to predict the outcome of a response variable. The goal of multiple linear regression (MLR) is to model the linear relationship between the explanatory (independent/X) variables and response (dependent/y) variable.\n"
   ]
  },
  {
   "cell_type": "code",
   "execution_count": 1,
   "metadata": {},
   "outputs": [],
   "source": [
    "# importing relevant dependencies & libraries\n",
    "import pandas as pd\n",
    "import numpy as np\n",
    "import seaborn as sns\n",
    "import matplotlib.pyplot as plt\n",
    "#import missingno as msno\n",
    "\n",
    "%matplotlib inline\n",
    "import warnings\n",
    "warnings.simplefilter('ignore')"
   ]
  },
  {
   "cell_type": "code",
   "execution_count": 2,
   "metadata": {},
   "outputs": [],
   "source": [
    "from sklearn import metrics\n",
    "from sklearn.linear_model import LinearRegression, LassoCV, RidgeCV, Lasso, Ridge\n",
    "from sklearn.model_selection import train_test_split, cross_val_score, cross_val_predict\n",
    "from sklearn.metrics import r2_score, mean_squared_error, mean_absolute_error, r2_score\n",
    "from sklearn.preprocessing import StandardScaler, PolynomialFeatures"
   ]
  },
  {
   "cell_type": "code",
   "execution_count": 3,
   "metadata": {},
   "outputs": [],
   "source": [
    "from sklearn.model_selection import train_test_split"
   ]
  },
  {
   "cell_type": "code",
   "execution_count": 4,
   "metadata": {},
   "outputs": [],
   "source": [
    "#path to data\n",
    "houses = pd.read_csv('Resources/home_data.csv')"
   ]
  },
  {
   "cell_type": "code",
   "execution_count": 5,
   "metadata": {},
   "outputs": [
    {
     "data": {
      "text/plain": [
       "(21613, 21)"
      ]
     },
     "execution_count": 5,
     "metadata": {},
     "output_type": "execute_result"
    }
   ],
   "source": [
    "# inspecting houses file\n",
    "houses.shape"
   ]
  },
  {
   "cell_type": "code",
   "execution_count": 6,
   "metadata": {},
   "outputs": [
    {
     "data": {
      "text/html": [
       "<div>\n",
       "<style scoped>\n",
       "    .dataframe tbody tr th:only-of-type {\n",
       "        vertical-align: middle;\n",
       "    }\n",
       "\n",
       "    .dataframe tbody tr th {\n",
       "        vertical-align: top;\n",
       "    }\n",
       "\n",
       "    .dataframe thead th {\n",
       "        text-align: right;\n",
       "    }\n",
       "</style>\n",
       "<table border=\"1\" class=\"dataframe\">\n",
       "  <thead>\n",
       "    <tr style=\"text-align: right;\">\n",
       "      <th></th>\n",
       "      <th>bedrooms</th>\n",
       "      <th>bathrooms</th>\n",
       "      <th>sqft_living</th>\n",
       "      <th>sqft_lot</th>\n",
       "      <th>floors</th>\n",
       "      <th>condition</th>\n",
       "      <th>grade</th>\n",
       "      <th>sqft_above</th>\n",
       "      <th>sqft_basement</th>\n",
       "      <th>yr_built</th>\n",
       "      <th>lat</th>\n",
       "      <th>long</th>\n",
       "    </tr>\n",
       "  </thead>\n",
       "  <tbody>\n",
       "    <tr>\n",
       "      <th>0</th>\n",
       "      <td>3</td>\n",
       "      <td>1.00</td>\n",
       "      <td>1180</td>\n",
       "      <td>5650.0</td>\n",
       "      <td>1.0</td>\n",
       "      <td>3</td>\n",
       "      <td>7</td>\n",
       "      <td>1180</td>\n",
       "      <td>0</td>\n",
       "      <td>1955</td>\n",
       "      <td>47.5112</td>\n",
       "      <td>-122.257</td>\n",
       "    </tr>\n",
       "    <tr>\n",
       "      <th>1</th>\n",
       "      <td>3</td>\n",
       "      <td>2.25</td>\n",
       "      <td>2570</td>\n",
       "      <td>7242.0</td>\n",
       "      <td>2.0</td>\n",
       "      <td>3</td>\n",
       "      <td>7</td>\n",
       "      <td>2170</td>\n",
       "      <td>400</td>\n",
       "      <td>1951</td>\n",
       "      <td>47.7210</td>\n",
       "      <td>-122.319</td>\n",
       "    </tr>\n",
       "    <tr>\n",
       "      <th>2</th>\n",
       "      <td>2</td>\n",
       "      <td>1.00</td>\n",
       "      <td>770</td>\n",
       "      <td>10000.0</td>\n",
       "      <td>1.0</td>\n",
       "      <td>3</td>\n",
       "      <td>6</td>\n",
       "      <td>770</td>\n",
       "      <td>0</td>\n",
       "      <td>1933</td>\n",
       "      <td>47.7379</td>\n",
       "      <td>-122.233</td>\n",
       "    </tr>\n",
       "    <tr>\n",
       "      <th>3</th>\n",
       "      <td>4</td>\n",
       "      <td>3.00</td>\n",
       "      <td>1960</td>\n",
       "      <td>5000.0</td>\n",
       "      <td>1.0</td>\n",
       "      <td>5</td>\n",
       "      <td>7</td>\n",
       "      <td>1050</td>\n",
       "      <td>910</td>\n",
       "      <td>1965</td>\n",
       "      <td>47.5208</td>\n",
       "      <td>-122.393</td>\n",
       "    </tr>\n",
       "    <tr>\n",
       "      <th>4</th>\n",
       "      <td>3</td>\n",
       "      <td>2.00</td>\n",
       "      <td>1680</td>\n",
       "      <td>8080.0</td>\n",
       "      <td>1.0</td>\n",
       "      <td>3</td>\n",
       "      <td>8</td>\n",
       "      <td>1680</td>\n",
       "      <td>0</td>\n",
       "      <td>1987</td>\n",
       "      <td>47.6168</td>\n",
       "      <td>-122.045</td>\n",
       "    </tr>\n",
       "    <tr>\n",
       "      <th>...</th>\n",
       "      <td>...</td>\n",
       "      <td>...</td>\n",
       "      <td>...</td>\n",
       "      <td>...</td>\n",
       "      <td>...</td>\n",
       "      <td>...</td>\n",
       "      <td>...</td>\n",
       "      <td>...</td>\n",
       "      <td>...</td>\n",
       "      <td>...</td>\n",
       "      <td>...</td>\n",
       "      <td>...</td>\n",
       "    </tr>\n",
       "    <tr>\n",
       "      <th>21608</th>\n",
       "      <td>3</td>\n",
       "      <td>2.50</td>\n",
       "      <td>1530</td>\n",
       "      <td>1131.0</td>\n",
       "      <td>3.0</td>\n",
       "      <td>3</td>\n",
       "      <td>8</td>\n",
       "      <td>1530</td>\n",
       "      <td>0</td>\n",
       "      <td>2009</td>\n",
       "      <td>47.6993</td>\n",
       "      <td>-122.346</td>\n",
       "    </tr>\n",
       "    <tr>\n",
       "      <th>21609</th>\n",
       "      <td>4</td>\n",
       "      <td>2.50</td>\n",
       "      <td>2310</td>\n",
       "      <td>5813.0</td>\n",
       "      <td>2.0</td>\n",
       "      <td>3</td>\n",
       "      <td>8</td>\n",
       "      <td>2310</td>\n",
       "      <td>0</td>\n",
       "      <td>2014</td>\n",
       "      <td>47.5107</td>\n",
       "      <td>-122.362</td>\n",
       "    </tr>\n",
       "    <tr>\n",
       "      <th>21610</th>\n",
       "      <td>2</td>\n",
       "      <td>0.75</td>\n",
       "      <td>1020</td>\n",
       "      <td>1350.0</td>\n",
       "      <td>2.0</td>\n",
       "      <td>3</td>\n",
       "      <td>7</td>\n",
       "      <td>1020</td>\n",
       "      <td>0</td>\n",
       "      <td>2009</td>\n",
       "      <td>47.5944</td>\n",
       "      <td>-122.299</td>\n",
       "    </tr>\n",
       "    <tr>\n",
       "      <th>21611</th>\n",
       "      <td>3</td>\n",
       "      <td>2.50</td>\n",
       "      <td>1600</td>\n",
       "      <td>2388.0</td>\n",
       "      <td>2.0</td>\n",
       "      <td>3</td>\n",
       "      <td>8</td>\n",
       "      <td>1600</td>\n",
       "      <td>0</td>\n",
       "      <td>2004</td>\n",
       "      <td>47.5345</td>\n",
       "      <td>-122.069</td>\n",
       "    </tr>\n",
       "    <tr>\n",
       "      <th>21612</th>\n",
       "      <td>2</td>\n",
       "      <td>0.75</td>\n",
       "      <td>1020</td>\n",
       "      <td>1076.0</td>\n",
       "      <td>2.0</td>\n",
       "      <td>3</td>\n",
       "      <td>7</td>\n",
       "      <td>1020</td>\n",
       "      <td>0</td>\n",
       "      <td>2008</td>\n",
       "      <td>47.5941</td>\n",
       "      <td>-122.299</td>\n",
       "    </tr>\n",
       "  </tbody>\n",
       "</table>\n",
       "<p>21613 rows × 12 columns</p>\n",
       "</div>"
      ],
      "text/plain": [
       "       bedrooms  bathrooms  sqft_living  sqft_lot  floors  condition  grade  \\\n",
       "0             3       1.00         1180    5650.0     1.0          3      7   \n",
       "1             3       2.25         2570    7242.0     2.0          3      7   \n",
       "2             2       1.00          770   10000.0     1.0          3      6   \n",
       "3             4       3.00         1960    5000.0     1.0          5      7   \n",
       "4             3       2.00         1680    8080.0     1.0          3      8   \n",
       "...         ...        ...          ...       ...     ...        ...    ...   \n",
       "21608         3       2.50         1530    1131.0     3.0          3      8   \n",
       "21609         4       2.50         2310    5813.0     2.0          3      8   \n",
       "21610         2       0.75         1020    1350.0     2.0          3      7   \n",
       "21611         3       2.50         1600    2388.0     2.0          3      8   \n",
       "21612         2       0.75         1020    1076.0     2.0          3      7   \n",
       "\n",
       "       sqft_above  sqft_basement  yr_built      lat     long  \n",
       "0            1180              0      1955  47.5112 -122.257  \n",
       "1            2170            400      1951  47.7210 -122.319  \n",
       "2             770              0      1933  47.7379 -122.233  \n",
       "3            1050            910      1965  47.5208 -122.393  \n",
       "4            1680              0      1987  47.6168 -122.045  \n",
       "...           ...            ...       ...      ...      ...  \n",
       "21608        1530              0      2009  47.6993 -122.346  \n",
       "21609        2310              0      2014  47.5107 -122.362  \n",
       "21610        1020              0      2009  47.5944 -122.299  \n",
       "21611        1600              0      2004  47.5345 -122.069  \n",
       "21612        1020              0      2008  47.5941 -122.299  \n",
       "\n",
       "[21613 rows x 12 columns]"
      ]
     },
     "execution_count": 6,
     "metadata": {},
     "output_type": "execute_result"
    }
   ],
   "source": [
    "#drop unwanted columns\n",
    "houses.drop([\"id\",\"date\",\"price\",\"waterfront\",\"view\",\"yr_renovated\",\"zipcode\",\"sqft_lot15\",\"sqft_living15\"], axis=1)\n",
    "cleanhouses=houses.drop([\"id\",\"date\",\"price\",\"waterfront\",\"view\",\"yr_renovated\",\"zipcode\",\"sqft_lot15\",\"sqft_living15\"], axis=1)#.head(20)\n",
    "cleanhouses"
   ]
  },
  {
   "cell_type": "code",
   "execution_count": 7,
   "metadata": {},
   "outputs": [],
   "source": [
    "#define y\n",
    "y_prices=houses[\"price\"]\n",
    "#y_prices.head()"
   ]
  },
  {
   "cell_type": "markdown",
   "metadata": {},
   "source": [
    "Exploratory Data Analysis (EDA)\n",
    "\n",
    "Performing an effective EDA can reveal insights about the data that can be used to help identify necessary data cleaning steps before testing and building a model.\n",
    "One part of EDA is to determine whether there is a relationship between our specific features and our target, the home sale price.\n",
    "\n",
    "Pandas' corrwith method will return a pair-wise correlation for each feature and the identified \"target\".\n",
    "\n",
    "Using seaborn, we can visualize these pair-wise correlations. For ease of analysis, the code below sorts the pair-wise correlations by absolute value."
   ]
  },
  {
   "cell_type": "code",
   "execution_count": 8,
   "metadata": {},
   "outputs": [
    {
     "data": {
      "image/png": "[encoded data removed]",
      "text/plain": [
       "<Figure size 720x1440 with 2 Axes>"
      ]
     },
     "metadata": {
      "needs_background": "light"
     },
     "output_type": "display_data"
    }
   ],
   "source": [
    "correlations = cleanhouses.corrwith(cleanhouses['sqft_living']).iloc[:-1].to_frame()\n",
    "correlations['abs'] = correlations[0].abs()\n",
    "sorted_correlations = correlations.sort_values('abs', ascending=False)[0]\n",
    "\n",
    "fig, ax = plt.subplots(figsize=(10,20))\n",
    "sns.heatmap(sorted_correlations.to_frame(), \\\n",
    "            cmap='coolwarm', annot=True, vmin=-1, vmax=1, ax=ax);"
   ]
  },
  {
   "cell_type": "code",
   "execution_count": 9,
   "metadata": {},
   "outputs": [],
   "source": [
    "# temp=model.predict(X_train_scaled)\n",
    "# print(temp)"
   ]
  },
  {
   "cell_type": "code",
   "execution_count": 10,
   "metadata": {},
   "outputs": [
    {
     "name": "stdout",
     "output_type": "stream",
     "text": [
      "(21613, 12) (21613, 1)\n"
     ]
    }
   ],
   "source": [
    "#Setting X and y variables for Linear Regression Model: 3 different Features, without sqft_living\n",
    "X = cleanhouses \n",
    "y = houses['price'].values.reshape(-1,1)\n",
    "print(X.shape, y.shape)"
   ]
  },
  {
   "cell_type": "code",
   "execution_count": 11,
   "metadata": {},
   "outputs": [],
   "source": [
    "# Use train_test_split to create training and testing data\n",
    "\n",
    "X_train, X_test, y_train, y_test = train_test_split(X, y, random_state=42)"
   ]
  },
  {
   "cell_type": "code",
   "execution_count": 12,
   "metadata": {},
   "outputs": [],
   "source": [
    " # Create the model using LinearRegression\n",
    "model = LinearRegression()"
   ]
  },
  {
   "cell_type": "code",
   "execution_count": 13,
   "metadata": {},
   "outputs": [],
   "source": [
    "#scale the data (standard)\n",
    "X_scaler = StandardScaler().fit(X_train)\n",
    "y_scaler = StandardScaler().fit(y_train)"
   ]
  },
  {
   "cell_type": "code",
   "execution_count": 14,
   "metadata": {},
   "outputs": [],
   "source": [
    "# Transform the training and testing data using the X_scaler and y_scaler models\n",
    "\n",
    "X_train_scaled = X_scaler.transform(X_train)\n",
    "X_test_scaled = X_scaler.transform(X_test)\n",
    "y_train_scaled = y_scaler.transform(y_train)\n",
    "y_test_scaled = y_scaler.transform(y_test)"
   ]
  },
  {
   "cell_type": "code",
   "execution_count": 15,
   "metadata": {},
   "outputs": [
    {
     "name": "stdout",
     "output_type": "stream",
     "text": [
      "Training Score: 0.6546443024078469\n",
      "Testing Score: 0.6544972546075059\n"
     ]
    }
   ],
   "source": [
    "# Fit the model to the training data and calculate the scores for the training and testing data\n",
    "\n",
    "model.fit(X_train_scaled, y_train)\n",
    "training_score = model.score(X_train_scaled, y_train)\n",
    "testing_score = model.score(X_test_scaled, y_test)\n",
    "\n",
    "print(f\"Training Score: {training_score}\")\n",
    "print(f\"Testing Score: {testing_score}\")"
   ]
  },
  {
   "cell_type": "code",
   "execution_count": 16,
   "metadata": {},
   "outputs": [
    {
     "data": {
      "text/plain": [
       "Text(0.5, 1.0, 'Residual Plot')"
      ]
     },
     "execution_count": 16,
     "metadata": {},
     "output_type": "execute_result"
    },
    {
     "data": {
      "image/png": "[encoded data removed]",
      "text/plain": [
       "<Figure size 432x288 with 1 Axes>"
      ]
     },
     "metadata": {
      "needs_background": "light"
     },
     "output_type": "display_data"
    }
   ],
   "source": [
    "# Plot the Residuals for the Training and Testing data...due to complexity to plotting a line in a 3D space.\n",
    "# Are the residuals propperly distributed? Should be close to 0 when averaged out. Evenly distributed above and below the line.\n",
    "\n",
    "\n",
    "plt.scatter(model.predict(X_train_scaled), y_train - model.predict(X_train_scaled), c=\"blue\", label=\"Training Data\")\n",
    "plt.scatter(model.predict(X_test_scaled), y_test - model.predict(X_test_scaled), c=\"orange\", label=\"Testing Data\")\n",
    "plt.legend()\n",
    "plt.hlines(y=0, xmin=y.min(), xmax=y.max())\n",
    "plt.title(\"Residual Plot\")"
   ]
  },
  {
   "cell_type": "code",
   "execution_count": 25,
   "metadata": {},
   "outputs": [],
   "source": [
    "import pickle\n",
    "filename = \"Trained_Models/katrice_MLR_model.h5\"\n",
    "pickle.dump(model, open(filename, 'wb'))"
   ]
  },
  {
   "cell_type": "code",
   "execution_count": null,
   "metadata": {},
   "outputs": [],
   "source": []
  },
  {
   "cell_type": "code",
   "execution_count": 17,
   "metadata": {},
   "outputs": [],
   "source": [
    "# # score the prediction - trained\n",
    "# score = model.score(X_train_scaled, y_train)\n",
    "# print(f\"R2 Score: {score}\")"
   ]
  },
  {
   "cell_type": "code",
   "execution_count": 18,
   "metadata": {},
   "outputs": [],
   "source": [
    "# # score the prediction - test\n",
    "# score = model.score(X_test_scaled, y_test)\n",
    "# print(f\"R2 Score: {score}\")"
   ]
  },
  {
   "cell_type": "markdown",
   "metadata": {},
   "source": [
    "Plot Original Data vs. Scaled Data"
   ]
  },
  {
   "cell_type": "code",
   "execution_count": 19,
   "metadata": {},
   "outputs": [],
   "source": [
    "# #Bedrooms\n",
    "# fig1 = plt.figure(figsize=(12, 6))\n",
    "# axes1 = fig1.add_subplot(1, 2, 1)\n",
    "# axes2 = fig1.add_subplot(1, 2, 2)\n",
    "\n",
    "# axes1.set_title(\"Original Bedrooms\")\n",
    "# axes2.set_title(\"Scaled Bedrooms\")\n",
    "\n",
    "# maxx = X_train[\"bedrooms\"].max()\n",
    "# maxy = y_train.max()\n",
    "# axes1.set_xlim(-maxx + 1, maxx + 1)\n",
    "# axes1.set_ylim(-maxy + 1, maxy + 1)\n",
    "\n",
    "# axes2.set_xlim(-2, 2)\n",
    "# axes2.set_ylim(-2, 2)\n",
    "\n",
    "# def set_axes(ax):\n",
    "#     ax.spines['left'].set_position('center')\n",
    "#     ax.spines['right'].set_color('none')\n",
    "#     ax.spines['bottom'].set_position('center')\n",
    "#     ax.spines['top'].set_color('none')\n",
    "#     ax.xaxis.set_ticks_position('bottom')\n",
    "#     ax.yaxis.set_ticks_position('left')\n",
    "    \n",
    "# set_axes(axes1)\n",
    "# set_axes(axes2)\n",
    "\n",
    "# axes1.scatter(X_train[\"bedrooms\"], y_train)\n",
    "# axes2.scatter(X_train_scaled[:,0], y_train_scaled[:])"
   ]
  },
  {
   "cell_type": "code",
   "execution_count": 20,
   "metadata": {},
   "outputs": [],
   "source": [
    "# #Bathrooms\n",
    "# fig1 = plt.figure(figsize=(12, 6))\n",
    "# axes1 = fig1.add_subplot(1, 2, 1)\n",
    "# axes2 = fig1.add_subplot(1, 2, 2)\n",
    "\n",
    "# axes1.set_title(\"Original Bathrooms\")\n",
    "# axes2.set_title(\"Scaled Bathrooms\")\n",
    "\n",
    "# maxx = X_train[\"bathrooms\"].max()\n",
    "# maxy = y_train.max()\n",
    "# axes1.set_xlim(-maxx + 1, maxx + 1)\n",
    "# axes1.set_ylim(-maxy + 1, maxy + 1)\n",
    "\n",
    "# axes2.set_xlim(-2, 2)\n",
    "# axes2.set_ylim(-2, 2)\n",
    "\n",
    "# def set_axes(ax):\n",
    "#     ax.spines['left'].set_position('center')\n",
    "#     ax.spines['right'].set_color('none')\n",
    "#     ax.spines['bottom'].set_position('center')\n",
    "#     ax.spines['top'].set_color('none')\n",
    "#     ax.xaxis.set_ticks_position('bottom')\n",
    "#     ax.yaxis.set_ticks_position('left')\n",
    "    \n",
    "# set_axes(axes1)\n",
    "# set_axes(axes2)\n",
    "\n",
    "# axes1.scatter(X_train[\"bathrooms\"], y_train)\n",
    "# axes2.scatter(X_train_scaled[:,0], y_train_scaled[:])"
   ]
  },
  {
   "cell_type": "code",
   "execution_count": 21,
   "metadata": {},
   "outputs": [],
   "source": [
    "# #Condition\n",
    "# fig1 = plt.figure(figsize=(12, 6))\n",
    "# axes1 = fig1.add_subplot(1, 2, 1)\n",
    "# axes2 = fig1.add_subplot(1, 2, 2)\n",
    "\n",
    "# axes1.set_title(\"Original sqft_living\")\n",
    "# axes2.set_title(\"Scaled sqft_living\")\n",
    "\n",
    "# maxx = X_train[\"sqft_living\"].max()\n",
    "# maxy = y_train.max()\n",
    "# axes1.set_xlim(-maxx + 1, maxx + 1)\n",
    "# axes1.set_ylim(-maxy + 1, maxy + 1)\n",
    "\n",
    "# axes2.set_xlim(-2, 2)\n",
    "# axes2.set_ylim(-2, 2)\n",
    "\n",
    "# def set_axes(ax):\n",
    "#     ax.spines['left'].set_position('center')\n",
    "#     ax.spines['right'].set_color('none')\n",
    "#     ax.spines['bottom'].set_position('center')\n",
    "#     ax.spines['top'].set_color('none')\n",
    "#     ax.xaxis.set_ticks_position('bottom')\n",
    "#     ax.yaxis.set_ticks_position('left')\n",
    "    \n",
    "# set_axes(axes1)\n",
    "# set_axes(axes2)\n",
    "\n",
    "# axes1.scatter(X_train[\"sqft_living\"], y_train)\n",
    "# axes2.scatter(X_train_scaled[:,0], y_train_scaled[:])"
   ]
  },
  {
   "cell_type": "markdown",
   "metadata": {},
   "source": [
    "Create, Fit & Score the data with the variety of Models available to show the simular result"
   ]
  },
  {
   "cell_type": "code",
   "execution_count": 22,
   "metadata": {},
   "outputs": [],
   "source": [
    "# # create a LASSO model\n",
    "# # Note: Use an alpha of .01 when creating the model for this activity\n",
    "\n",
    "# lasso = Lasso(alpha=.01).fit(X_train_scaled, y_train_scaled)\n",
    "\n",
    "# predictions = lasso.predict(X_test_scaled)\n",
    "\n",
    "# MSE = mean_squared_error(y_test_scaled, predictions)\n",
    "# r2 = lasso.score(X_test_scaled, y_test_scaled)\n",
    "\n",
    "# print(f\"MSE: {MSE}, R2: {r2}\")"
   ]
  },
  {
   "cell_type": "code",
   "execution_count": 23,
   "metadata": {},
   "outputs": [],
   "source": [
    "# # create a Ridge model\n",
    "# # Note: Use an alpha of .01 when creating the model for this activity\n",
    "\n",
    "# ridge = Ridge(alpha=.01).fit(X_train_scaled, y_train_scaled)\n",
    "\n",
    "# predictions = ridge.predict(X_test_scaled)\n",
    "\n",
    "# MSE = mean_squared_error(y_test_scaled, predictions)\n",
    "# r2 = ridge.score(X_test_scaled, y_test_scaled)\n",
    "\n",
    "# print(f\"MSE: {MSE}, R2: {r2}\")"
   ]
  },
  {
   "cell_type": "code",
   "execution_count": null,
   "metadata": {},
   "outputs": [],
   "source": []
  },
  {
   "cell_type": "code",
   "execution_count": null,
   "metadata": {},
   "outputs": [],
   "source": []
  },
  {
   "cell_type": "code",
   "execution_count": null,
   "metadata": {},
   "outputs": [],
   "source": []
  },
  {
   "cell_type": "code",
   "execution_count": null,
   "metadata": {},
   "outputs": [],
   "source": []
  }
 ],
 "metadata": {
  "kernelspec": {
   "display_name": "Python 3",
   "language": "python",
   "name": "python3"
  },
  "language_info": {
   "codemirror_mode": {
    "name": "ipython",
    "version": 3
   },
   "file_extension": ".py",
   "mimetype": "text/x-python",
   "name": "python",
   "nbconvert_exporter": "python",
   "pygments_lexer": "ipython3",
   "version": "3.6.12"
  }
 },
 "nbformat": 4,
 "nbformat_minor": 4
}
