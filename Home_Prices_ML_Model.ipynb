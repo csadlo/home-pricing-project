{
 "cells": [
  {
   "cell_type": "code",
   "execution_count": 2,
   "metadata": {},
   "outputs": [],
   "source": [
    "# Set the seed value for the notebook so the results are reproducible\n",
    "from numpy.random import seed\n",
    "seed(1)"
   ]
  },
  {
   "cell_type": "code",
   "execution_count": 3,
   "metadata": {
    "slideshow": {
     "slide_type": "subslide"
    }
   },
   "outputs": [],
   "source": [
    "# Dependencies\n",
    "import numpy as np\n",
    "import pandas as pd\n",
    "import datetime as dt"
   ]
  },
  {
   "cell_type": "code",
   "execution_count": 4,
   "metadata": {},
   "outputs": [],
   "source": [
    "import tensorflow\n",
    "tensorflow.keras.__version__\n",
    "from sklearn.preprocessing import LabelEncoder, MinMaxScaler, StandardScaler"
   ]
  },
  {
   "cell_type": "code",
   "execution_count": 5,
   "metadata": {
    "slideshow": {
     "slide_type": "fragment"
    }
   },
   "outputs": [],
   "source": [
    "houses = pd.read_csv('Resources/home_data.csv')\n",
    "\n",
    "cut_labels_20 = ['<125k', '125-150k', '150k-175k', '175k-200k', \n",
    "                 '200k-220k', '220k-240k', '240k-260k', '260k-280k', '280k-300k',\n",
    "                 '300k-320k', '320k-340k', '340k-360k', '360k-380k', '380k-400k', \n",
    "                 '400k-420k', '420k-440k', '440k-460k', '460k-480k', '480k-500k', \n",
    "                 '500k+']\n",
    "cut_bins = [0, 125000, 150000, 175000, \n",
    "            200000, 220000, 240000, 260000, 280000, \n",
    "            300000, 320000, 340000, 360000, 380000, \n",
    "            400000, 420000, 440000, 460000, 480000,\n",
    "            500000, 10000000]\n"
   ]
  },
  {
   "cell_type": "markdown",
   "metadata": {
    "slideshow": {
     "slide_type": "subslide"
    }
   },
   "source": [
    "## Data Pre-Processing"
   ]
  },
  {
   "cell_type": "code",
   "execution_count": 6,
   "metadata": {},
   "outputs": [],
   "source": [
    "# Add Price Range Labels\n",
    "houses[\"price_range\"] = pd.cut(houses['price'], bins=cut_bins, labels=cut_labels_20)"
   ]
  },
  {
   "cell_type": "code",
   "execution_count": 7,
   "metadata": {},
   "outputs": [],
   "source": [
    "# Add Label Encoded the zipcode data\n",
    "label_encoder = LabelEncoder()\n",
    "label_encoder.fit(houses[\"zipcode\"])\n",
    "houses[\"labeled_zipcode\"] = label_encoder.transform(houses[\"zipcode\"])\n",
    "\n",
    "houses[\"day_sold\"] = pd.to_datetime(houses[\"date\"]).map(dt.datetime.toordinal)"
   ]
  },
  {
   "cell_type": "code",
   "execution_count": 8,
   "metadata": {},
   "outputs": [],
   "source": [
    "#X_trimmed = houses[[\"bedrooms\",\"bathrooms\",\"sqft_living\",\"sqft_lot\",\"floors\",\"waterfront\",\"view\",\"condition\",\"grade\",\"sqft_above\",\"sqft_basement\",\"yr_built\",\"yr_renovated\",\"zipcode\"]]\n",
    "#X_trimmed = houses.drop([\"id\",\"date\",\"price\",\"zipcode\",\"lat\",\"long\",\"sqft_living15\",\"sqft_lot15\",\"price_range\"], axis=1)\n",
    "#X_trimmed = houses.drop([\"id\",\"date\",\"price\",\"waterfront\",\"view\",\"yr_renovated\",\"zipcode\",\"lat\",\"long\",\"sqft_living15\",\"sqft_lot15\",\"price_range\"], axis=1)\n",
    "X_coords = houses.drop([\"id\",\"date\",\"price\",\"waterfront\",\"view\",\"yr_renovated\",\"zipcode\",\"sqft_living15\",\"sqft_lot15\",\"price_range\",\"labeled_zipcode\"], axis=1)\n",
    "X_zipcodes = houses.drop([\"id\",\"date\",\"price\",\"waterfront\",\"view\",\"yr_renovated\",\"zipcode\",\"lat\",\"long\",\"sqft_living15\",\"sqft_lot15\",\"price_range\"], axis=1)\n",
    "X_coords_15 = houses.drop([\"id\",\"date\",\"price\",\"waterfront\",\"view\",\"yr_renovated\",\"zipcode\",\"price_range\",\"labeled_zipcode\"], axis=1)\n",
    "X_coords_15_only = houses.drop([\"id\",\"date\",\"price\",\"sqft_living\",\"sqft_lot\",\"waterfront\",\"view\",\"yr_renovated\",\"zipcode\",\"price_range\",\"labeled_zipcode\"], axis=1)\n",
    "\n",
    "X_coords_ss = houses.drop([\"id\",\"date\",\"price\",\"waterfront\",\"view\",\"yr_renovated\",\"zipcode\",\"sqft_living15\",\"sqft_lot15\",\"price_range\",\"labeled_zipcode\",\"day_sold\"], axis=1)\n",
    "\n",
    "\n",
    "#X_trimmed = X_zipcodes\n",
    "#X_trimmed = X_coords\n",
    "X_trimmed = X_coords_15\n",
    "#X_trimmed = X_coords_15_only\n",
    "\n",
    "X_trimmed = X_coords_ss\n",
    "\n",
    "y_prices = houses[\"price\"]\n",
    "y_ranges = houses[\"price_range\"]"
   ]
  },
  {
   "cell_type": "code",
   "execution_count": null,
   "metadata": {},
   "outputs": [],
   "source": []
  },
  {
   "cell_type": "markdown",
   "metadata": {
    "slideshow": {
     "slide_type": "subslide"
    }
   },
   "source": [
    "## Data Exploration"
   ]
  },
  {
   "cell_type": "code",
   "execution_count": null,
   "metadata": {},
   "outputs": [],
   "source": [
    "houses.drop([\"id\",\"date\",\"price\",\"waterfront\",\"view\"], axis=1).describe()\n",
    "houses.drop([\"id\",\"date\",\"waterfront\",\"view\",\"condition\",\"grade\",\"zipcode\",\"price_range\",\"labeled_zipcode\",\"lat\",\"long\"], axis=1).head(10)\n"
   ]
  },
  {
   "cell_type": "code",
   "execution_count": null,
   "metadata": {},
   "outputs": [],
   "source": [
    "X_trimmed"
   ]
  },
  {
   "cell_type": "code",
   "execution_count": null,
   "metadata": {},
   "outputs": [],
   "source": [
    "# Data\n",
    "y_prices.describe"
   ]
  },
  {
   "cell_type": "code",
   "execution_count": null,
   "metadata": {},
   "outputs": [],
   "source": [
    "y_prices.plot(kind=\"hist\")"
   ]
  },
  {
   "cell_type": "code",
   "execution_count": null,
   "metadata": {},
   "outputs": [],
   "source": [
    "# Filter out expensive houses here if we want to \n",
    "\n",
    "affordable = houses[houses[\"price\"] <= 1000000][\"price\"]\n",
    "affordable.plot(kind=\"hist\")"
   ]
  },
  {
   "cell_type": "code",
   "execution_count": null,
   "metadata": {},
   "outputs": [],
   "source": [
    "affordable.describe()"
   ]
  },
  {
   "cell_type": "code",
   "execution_count": null,
   "metadata": {},
   "outputs": [],
   "source": [
    "houses.shape"
   ]
  },
  {
   "cell_type": "code",
   "execution_count": null,
   "metadata": {
    "nbgrader": {
     "grade": false,
     "grade_id": "cell-86a9e3212f200d21",
     "locked": false,
     "schema_version": 1,
     "solution": true
    },
    "slideshow": {
     "slide_type": "subslide"
    }
   },
   "outputs": [],
   "source": [
    "#X = houses.drop([\"price\", \"date\"], axis=1)\n",
    "y = houses[\"price\"].values.reshape(-1,1)\n",
    "print(X_trimmed.shape, y.shape)\n"
   ]
  },
  {
   "cell_type": "code",
   "execution_count": null,
   "metadata": {},
   "outputs": [],
   "source": [
    "y_prices = houses[\"price\"]\n",
    "y_prices.head()"
   ]
  },
  {
   "cell_type": "code",
   "execution_count": null,
   "metadata": {},
   "outputs": [],
   "source": []
  },
  {
   "cell_type": "markdown",
   "metadata": {
    "slideshow": {
     "slide_type": "subslide"
    }
   },
   "source": [
    "## Encoding and Splitting Data"
   ]
  },
  {
   "cell_type": "code",
   "execution_count": 9,
   "metadata": {},
   "outputs": [],
   "source": [
    "from sklearn.model_selection import train_test_split\n",
    "from tensorflow.keras.utils import to_categorical\n",
    "from tensorflow.keras.models import load_model\n"
   ]
  },
  {
   "cell_type": "code",
   "execution_count": null,
   "metadata": {
    "nbgrader": {
     "grade": false,
     "grade_id": "cell-711a82d9b32c83ff",
     "locked": false,
     "schema_version": 1,
     "solution": true
    },
    "slideshow": {
     "slide_type": "fragment"
    }
   },
   "outputs": [],
   "source": [
    "# We use this code only when we are trying to use binning of the y data\n",
    "# Step 1: Label-encode data set\n",
    "#label_encoder = LabelEncoder()\n",
    "#label_encoder.fit(y_ranges)\n",
    "#encoded_y_train = label_encoder.transform(y_train)\n",
    "#encoded_y_test = label_encoder.transform(y_test)\n"
   ]
  },
  {
   "cell_type": "code",
   "execution_count": null,
   "metadata": {
    "nbgrader": {
     "grade": false,
     "grade_id": "cell-711a82d9b32c83ff",
     "locked": false,
     "schema_version": 1,
     "solution": true
    },
    "slideshow": {
     "slide_type": "fragment"
    }
   },
   "outputs": [],
   "source": [
    "# We use this code only when we are trying to use binning of the y data\n",
    "# Step 2: Convert encoded labels to one-hot-encoding\n",
    "#y_train_categorical = to_categorical(encoded_y_train)\n",
    "#y_test_categorical = to_categorical(encoded_y_test)\n",
    "#y_train_categorical"
   ]
  },
  {
   "cell_type": "code",
   "execution_count": null,
   "metadata": {},
   "outputs": [],
   "source": [
    "# LabelEncode the zipcode data\n"
   ]
  },
  {
   "cell_type": "code",
   "execution_count": 10,
   "metadata": {},
   "outputs": [],
   "source": [
    "X_train, X_test, y_train, y_test = train_test_split(\n",
    "    X_trimmed, y_prices, random_state=42)"
   ]
  },
  {
   "cell_type": "code",
   "execution_count": null,
   "metadata": {},
   "outputs": [],
   "source": [
    "y_train"
   ]
  },
  {
   "cell_type": "code",
   "execution_count": null,
   "metadata": {},
   "outputs": [],
   "source": [
    "y_test"
   ]
  },
  {
   "cell_type": "code",
   "execution_count": 11,
   "metadata": {},
   "outputs": [],
   "source": [
    "X_scaler = StandardScaler().fit(X_train)\n",
    "X_train_scaled = X_scaler.transform(X_train)\n",
    "X_test_scaled = X_scaler.transform(X_test)"
   ]
  },
  {
   "cell_type": "code",
   "execution_count": null,
   "metadata": {},
   "outputs": [],
   "source": []
  },
  {
   "cell_type": "markdown",
   "metadata": {},
   "source": [
    "# Create a Deep Learning Model"
   ]
  },
  {
   "cell_type": "code",
   "execution_count": 12,
   "metadata": {},
   "outputs": [],
   "source": [
    "from tensorflow.keras.models import Sequential\n",
    "from tensorflow.keras.layers import Dense\n",
    "from sklearn.metrics import r2_score"
   ]
  },
  {
   "cell_type": "code",
   "execution_count": 14,
   "metadata": {},
   "outputs": [],
   "source": [
    "# Create model and add layers\n",
    "multiplier = 4\n",
    "num_of_layers = 5\n",
    "\n",
    "#mid_activation = \"relu\"   # Dom tells us to use this one\n",
    "mid_activation = \"selu\"\n",
    "\n",
    "#final_activation = \"softmax\"  # Classification\n",
    "final_activation = \"linear\"\n",
    "\n",
    "num_inputs = X_train_scaled[0].size\n",
    "num_units = multiplier * num_inputs\n",
    "\n",
    "model = Sequential()\n",
    "model.add(Dense(units=num_units, activation=mid_activation, input_dim=num_inputs))\n",
    "model.add(Dense(units=num_units, activation=mid_activation))\n",
    "model.add(Dense(units=num_units, activation=mid_activation))\n",
    "\n",
    "#model.add(Dense(units=20, activation='softmax'))  # Classification\n",
    "model.add(Dense(units=1, activation=final_activation))"
   ]
  },
  {
   "cell_type": "code",
   "execution_count": null,
   "metadata": {},
   "outputs": [],
   "source": [
    "# Compile and fit the model\n",
    "#model.compile(optimizer='adam',\n",
    "#              loss='categorical_crossentropy',\n",
    "#              metrics=['accuracy'])\n",
    "\n",
    "# Compile and fit the model\n",
    "model.compile(optimizer='adam',\n",
    "              loss='mean_squared_error'#,\n",
    "              #metrics=['accuracy']\n",
    "             )"
   ]
  },
  {
   "cell_type": "code",
   "execution_count": null,
   "metadata": {},
   "outputs": [],
   "source": [
    "model.summary()"
   ]
  },
  {
   "cell_type": "code",
   "execution_count": null,
   "metadata": {
    "scrolled": false
   },
   "outputs": [],
   "source": [
    "model.fit(\n",
    "    #X_train_scaled,\n",
    "    #y_train_categorical,\n",
    "    X_train_scaled,\n",
    "    y_train,\n",
    "    epochs=10,\n",
    "    shuffle=True,\n",
    "    verbose=2\n",
    ")\n"
   ]
  },
  {
   "cell_type": "code",
   "execution_count": null,
   "metadata": {},
   "outputs": [],
   "source": []
  },
  {
   "cell_type": "markdown",
   "metadata": {},
   "source": [
    "## Quantify our Trained Model"
   ]
  },
  {
   "cell_type": "code",
   "execution_count": null,
   "metadata": {},
   "outputs": [],
   "source": [
    "#model_loss, model_accuracy = model.evaluate(\n",
    "#    X_test, y_test_categorical, verbose=2)\n",
    "\n",
    "#model_loss, model_accuracy = model.evaluate(\n",
    "#    X_test_scaled, y_test, verbose=2)\n",
    "\n",
    "y_train_pred = model.predict(X_train_scaled)\n",
    "y_test_pred = model.predict(X_test_scaled)\n",
    "\n",
    "train_value = r2_score(y_train, y_train_pred)\n",
    "test_value = r2_score(y_test, y_test_pred)\n",
    "\n",
    "#print(\n",
    "#    f\"Normal Neural Network - Loss: {model_loss}, Accuracy: {model_accuracy}\")\n",
    "\n",
    "#print(train_value)\n",
    "#print(test_value)\n",
    "\n",
    "str_train_value = \"{:.2f}\".format(train_value * 100)\n",
    "str_test_value = \"{:.2f}\".format(test_value * 100)\n",
    "\n",
    "print(\"This model accounts for\", str_train_value, \"% of the training data forces on price.\")\n",
    "print(\"This model accounts for\", str_test_value, \"% of the test data forces on price.\")\n"
   ]
  },
  {
   "cell_type": "markdown",
   "metadata": {},
   "source": [
    "## Save our Trained Model"
   ]
  },
  {
   "cell_type": "code",
   "execution_count": null,
   "metadata": {},
   "outputs": [],
   "source": [
    "model.save(\"Trained_Models/chris_trained_model.h5\")"
   ]
  },
  {
   "cell_type": "code",
   "execution_count": null,
   "metadata": {},
   "outputs": [],
   "source": []
  },
  {
   "cell_type": "markdown",
   "metadata": {},
   "source": [
    "## Load our Trained Model"
   ]
  },
  {
   "cell_type": "code",
   "execution_count": 16,
   "metadata": {},
   "outputs": [],
   "source": [
    "model = load_model(\"Trained_Models/chris_best_model.h5\")"
   ]
  },
  {
   "cell_type": "code",
   "execution_count": 17,
   "metadata": {},
   "outputs": [
    {
     "name": "stdout",
     "output_type": "stream",
     "text": [
      "This model accounts for 87.82 % of the training data forces on price.\n",
      "This model accounts for 85.43 % of the test data forces on price.\n"
     ]
    }
   ],
   "source": [
    "#model_loss, model_accuracy = model.evaluate(\n",
    "#    X_test, y_test_categorical, verbose=2)\n",
    "\n",
    "#model_loss, model_accuracy = model.evaluate(\n",
    "#    X_test_scaled, y_test, verbose=2)\n",
    "\n",
    "y_train_pred = model.predict(X_train_scaled)\n",
    "y_test_pred = model.predict(X_test_scaled)\n",
    "\n",
    "train_value = r2_score(y_train, y_train_pred)\n",
    "test_value = r2_score(y_test, y_test_pred)\n",
    "\n",
    "#print(\n",
    "#    f\"Normal Neural Network - Loss: {model_loss}, Accuracy: {model_accuracy}\")\n",
    "\n",
    "#print(train_value)\n",
    "#print(test_value)\n",
    "\n",
    "str_train_value = \"{:.2f}\".format(train_value * 100)\n",
    "str_test_value = \"{:.2f}\".format(test_value * 100)\n",
    "\n",
    "print(\"This model accounts for\", str_train_value, \"% of the training data forces on price.\")\n",
    "print(\"This model accounts for\", str_test_value, \"% of the test data forces on price.\")\n"
   ]
  },
  {
   "cell_type": "code",
   "execution_count": null,
   "metadata": {},
   "outputs": [],
   "source": []
  },
  {
   "cell_type": "markdown",
   "metadata": {
    "slideshow": {
     "slide_type": "subslide"
    }
   },
   "source": [
    "## Make Predictions"
   ]
  },
  {
   "cell_type": "code",
   "execution_count": null,
   "metadata": {
    "nbgrader": {
     "grade": false,
     "grade_id": "cell-f97eb3e97245187b",
     "locked": false,
     "schema_version": 1,
     "solution": true
    },
    "scrolled": true,
    "slideshow": {
     "slide_type": "fragment"
    }
   },
   "outputs": [],
   "source": [
    "encoded_predictions = model.predict_classes(X_test[:100])\n",
    "prediction_labels = label_encoder.inverse_transform(encoded_predictions)\n",
    "prediction_labels"
   ]
  },
  {
   "cell_type": "code",
   "execution_count": null,
   "metadata": {},
   "outputs": [],
   "source": [
    "encoded_predictions = model.predict_classes(X_test)\n",
    "prediction_labels = label_encoder.inverse_transform(encoded_predictions)\n",
    "prediction_labels"
   ]
  },
  {
   "cell_type": "code",
   "execution_count": null,
   "metadata": {},
   "outputs": [],
   "source": [
    "print(f\"Predicted classes: {prediction_labels}\")\n",
    "print(f\"Actual Labels: {list(y_test_categorical[:20])}\")"
   ]
  },
  {
   "cell_type": "code",
   "execution_count": null,
   "metadata": {},
   "outputs": [],
   "source": [
    "to_categorical y_test_categorical[:20]"
   ]
  },
  {
   "cell_type": "code",
   "execution_count": null,
   "metadata": {},
   "outputs": [],
   "source": [
    "label_encoder.inverse_transform(y_test_categorical[:20])"
   ]
  },
  {
   "cell_type": "code",
   "execution_count": null,
   "metadata": {},
   "outputs": [],
   "source": []
  },
  {
   "cell_type": "markdown",
   "metadata": {},
   "source": [
    "## WARNING - This is for finding a better model than others"
   ]
  },
  {
   "cell_type": "code",
   "execution_count": 18,
   "metadata": {},
   "outputs": [
    {
     "name": "stdout",
     "output_type": "stream",
     "text": [
      "Saving Model to File : Parametric_Study_Models/retest_trained_linear_coords_relu_4x4x4x4x20__72.48__72.25.h5\n",
      "Saving Model to File : Parametric_Study_Models/retest_trained_linear_coords_relu_4x4x4x4x30__73.03__72.84.h5\n",
      "Saving Model to File : Parametric_Study_Models/retest_trained_linear_coords_relu_4x4x4x4x40__73.46__73.29.h5\n",
      "Saving Model to File : Parametric_Study_Models/retest_trained_linear_coords_relu_4x4x4x4x50__75.08__74.76.h5\n",
      "Saving Model to File : Parametric_Study_Models/retest_trained_linear_coords_relu_4x4x4x4x60__76.89__76.42.h5\n",
      "Saving Model to File : Parametric_Study_Models/retest_trained_linear_coords_relu_4x4x4x4x70__78.92__78.21.h5\n",
      "Saving Model to File : Parametric_Study_Models/retest_trained_linear_coords_relu_4x4x4x4x80__79.94__78.97.h5\n",
      "Saving Model to File : Parametric_Study_Models/retest_trained_linear_coords_relu_4x4x4x4x90__80.35__79.22.h5\n",
      "Saving Model to File : Parametric_Study_Models/retest_trained_linear_coords_relu_4x4x4x4x100__80.86__79.87.h5\n",
      "Saving Model to File : Parametric_Study_Models/retest_trained_linear_coords_relu_4x4x4x4x110__81.71__80.44.h5\n",
      "Saving Model to File : Parametric_Study_Models/retest_trained_linear_coords_relu_4x4x4x4x120__81.89__80.46.h5\n",
      "Saving Model to File : Parametric_Study_Models/retest_trained_linear_coords_relu_4x4x4x4x130__82.93__81.57.h5\n",
      "Saving Model to File : Parametric_Study_Models/retest_trained_linear_coords_relu_4x4x4x4x140__83.52__82.10.h5\n",
      "Saving Model to File : Parametric_Study_Models/retest_trained_linear_coords_relu_4x4x4x4x150__84.03__82.77.h5\n",
      "Saving Model to File : Parametric_Study_Models/retest_trained_linear_coords_relu_4x4x4x4x160__84.63__83.20.h5\n",
      "Saving Model to File : Parametric_Study_Models/retest_trained_linear_coords_relu_4x4x4x4x170__85.05__83.71.h5\n",
      "Saving Model to File : Parametric_Study_Models/retest_trained_linear_coords_relu_4x4x4x4x180__85.32__83.87.h5\n",
      "Saving Model to File : Parametric_Study_Models/retest_trained_linear_coords_relu_4x4x4x4x190__84.55__82.63.h5\n",
      "Saving Model to File : Parametric_Study_Models/retest_trained_linear_coords_relu_4x4x4x4x200__85.86__84.20.h5\n",
      "Saving Model to File : Parametric_Study_Models/retest_trained_linear_coords_relu_4x4x4x4x4x20__72.84__72.62.h5\n",
      "Saving Model to File : Parametric_Study_Models/retest_trained_linear_coords_relu_4x4x4x4x4x30__73.31__72.99.h5\n",
      "Saving Model to File : Parametric_Study_Models/retest_trained_linear_coords_relu_4x4x4x4x4x40__73.79__73.55.h5\n",
      "Saving Model to File : Parametric_Study_Models/retest_trained_linear_coords_relu_4x4x4x4x4x50__74.09__74.28.h5\n",
      "Saving Model to File : Parametric_Study_Models/retest_trained_linear_coords_relu_4x4x4x4x4x60__74.30__74.45.h5\n",
      "Saving Model to File : Parametric_Study_Models/retest_trained_linear_coords_relu_4x4x4x4x4x70__74.85__74.54.h5\n",
      "Saving Model to File : Parametric_Study_Models/retest_trained_linear_coords_relu_4x4x4x4x4x80__79.67__79.05.h5\n",
      "Saving Model to File : Parametric_Study_Models/retest_trained_linear_coords_relu_4x4x4x4x4x90__83.23__82.25.h5\n",
      "Saving Model to File : Parametric_Study_Models/retest_trained_linear_coords_relu_4x4x4x4x4x100__84.81__83.59.h5\n",
      "Saving Model to File : Parametric_Study_Models/retest_trained_linear_coords_relu_4x4x4x4x4x110__85.91__84.53.h5\n",
      "Saving Model to File : Parametric_Study_Models/retest_trained_linear_coords_relu_4x4x4x4x4x120__86.10__84.21.h5\n",
      "Saving Model to File : Parametric_Study_Models/retest_trained_linear_coords_relu_4x4x4x4x4x130__86.52__84.27.h5\n",
      "Saving Model to File : Parametric_Study_Models/retest_trained_linear_coords_relu_4x4x4x4x4x140__86.94__84.94.h5\n",
      "Saving Model to File : Parametric_Study_Models/retest_trained_linear_coords_relu_4x4x4x4x4x150__87.31__85.19.h5\n",
      "Saving Model to File : Parametric_Study_Models/retest_trained_linear_coords_relu_4x4x4x4x4x160__87.03__84.11.h5\n",
      "Saving Model to File : Parametric_Study_Models/retest_trained_linear_coords_relu_4x4x4x4x4x170__87.58__84.40.h5\n",
      "Saving Model to File : Parametric_Study_Models/retest_trained_linear_coords_relu_4x4x4x4x4x180__88.14__83.81.h5\n",
      "Saving Model to File : Parametric_Study_Models/retest_trained_linear_coords_relu_4x4x4x4x4x190__88.21__83.87.h5\n",
      "Saving Model to File : Parametric_Study_Models/retest_trained_linear_coords_relu_4x4x4x4x4x200__88.16__83.44.h5\n",
      "Saving Model to File : Parametric_Study_Models/retest_trained_linear_coords_relu_4x4x4x4x4x4x20__82.43__81.31.h5\n",
      "Saving Model to File : Parametric_Study_Models/retest_trained_linear_coords_relu_4x4x4x4x4x4x30__83.77__82.55.h5\n",
      "Saving Model to File : Parametric_Study_Models/retest_trained_linear_coords_relu_4x4x4x4x4x4x40__84.22__82.85.h5\n",
      "Saving Model to File : Parametric_Study_Models/retest_trained_linear_coords_relu_4x4x4x4x4x4x50__85.51__84.22.h5\n",
      "Saving Model to File : Parametric_Study_Models/retest_trained_linear_coords_relu_4x4x4x4x4x4x60__85.99__84.49.h5\n",
      "Saving Model to File : Parametric_Study_Models/retest_trained_linear_coords_relu_4x4x4x4x4x4x70__86.07__84.37.h5\n",
      "Saving Model to File : Parametric_Study_Models/retest_trained_linear_coords_relu_4x4x4x4x4x4x80__86.42__84.83.h5\n",
      "Saving Model to File : Parametric_Study_Models/retest_trained_linear_coords_relu_4x4x4x4x4x4x90__86.50__84.40.h5\n",
      "Saving Model to File : Parametric_Study_Models/retest_trained_linear_coords_relu_4x4x4x4x4x4x100__86.87__84.20.h5\n",
      "Saving Model to File : Parametric_Study_Models/retest_trained_linear_coords_relu_4x4x4x4x4x4x110__86.73__83.95.h5\n",
      "Saving Model to File : Parametric_Study_Models/retest_trained_linear_coords_relu_4x4x4x4x4x4x120__87.32__84.13.h5\n",
      "Saving Model to File : Parametric_Study_Models/retest_trained_linear_coords_relu_4x4x4x4x4x4x130__87.49__84.26.h5\n",
      "Saving Model to File : Parametric_Study_Models/retest_trained_linear_coords_relu_4x4x4x4x4x4x140__87.14__83.54.h5\n",
      "Saving Model to File : Parametric_Study_Models/retest_trained_linear_coords_relu_4x4x4x4x4x4x150__87.80__84.10.h5\n",
      "Saving Model to File : Parametric_Study_Models/retest_trained_linear_coords_relu_4x4x4x4x4x4x160__88.19__84.02.h5\n",
      "Saving Model to File : Parametric_Study_Models/retest_trained_linear_coords_relu_4x4x4x4x4x4x170__87.58__83.80.h5\n",
      "Saving Model to File : Parametric_Study_Models/retest_trained_linear_coords_relu_4x4x4x4x4x4x180__88.43__84.06.h5\n",
      "Saving Model to File : Parametric_Study_Models/retest_trained_linear_coords_relu_4x4x4x4x4x4x190__88.80__84.00.h5\n",
      "Saving Model to File : Parametric_Study_Models/retest_trained_linear_coords_relu_4x4x4x4x4x4x200__88.87__84.13.h5\n",
      "Saving Model to File : Parametric_Study_Models/retest_trained_linear_coords_relu_4x4x4x4x4x4x4x20__73.40__73.25.h5\n",
      "Saving Model to File : Parametric_Study_Models/retest_trained_linear_coords_relu_4x4x4x4x4x4x4x30__79.10__78.23.h5\n",
      "Saving Model to File : Parametric_Study_Models/retest_trained_linear_coords_relu_4x4x4x4x4x4x4x40__83.84__82.64.h5\n",
      "Saving Model to File : Parametric_Study_Models/retest_trained_linear_coords_relu_4x4x4x4x4x4x4x50__85.23__83.46.h5\n",
      "Saving Model to File : Parametric_Study_Models/retest_trained_linear_coords_relu_4x4x4x4x4x4x4x60__85.93__84.10.h5\n",
      "Saving Model to File : Parametric_Study_Models/retest_trained_linear_coords_relu_4x4x4x4x4x4x4x70__86.80__84.48.h5\n",
      "Saving Model to File : Parametric_Study_Models/retest_trained_linear_coords_relu_4x4x4x4x4x4x4x80__87.27__84.73.h5\n",
      "Saving Model to File : Parametric_Study_Models/retest_trained_linear_coords_relu_4x4x4x4x4x4x4x90__86.64__83.90.h5\n",
      "Saving Model to File : Parametric_Study_Models/retest_trained_linear_coords_relu_4x4x4x4x4x4x4x100__86.25__83.56.h5\n",
      "Saving Model to File : Parametric_Study_Models/retest_trained_linear_coords_relu_4x4x4x4x4x4x4x110__86.98__83.93.h5\n",
      "Saving Model to File : Parametric_Study_Models/retest_trained_linear_coords_relu_4x4x4x4x4x4x4x120__87.48__83.85.h5\n",
      "Saving Model to File : Parametric_Study_Models/retest_trained_linear_coords_relu_4x4x4x4x4x4x4x130__88.22__84.70.h5\n",
      "Saving Model to File : Parametric_Study_Models/retest_trained_linear_coords_relu_4x4x4x4x4x4x4x140__88.85__84.78.h5\n",
      "Saving Model to File : Parametric_Study_Models/retest_trained_linear_coords_relu_4x4x4x4x4x4x4x150__89.18__84.77.h5\n",
      "Saving Model to File : Parametric_Study_Models/retest_trained_linear_coords_relu_4x4x4x4x4x4x4x160__89.56__84.73.h5\n",
      "Saving Model to File : Parametric_Study_Models/retest_trained_linear_coords_relu_4x4x4x4x4x4x4x170__89.46__84.01.h5\n"
     ]
    },
    {
     "name": "stdout",
     "output_type": "stream",
     "text": [
      "Saving Model to File : Parametric_Study_Models/retest_trained_linear_coords_relu_4x4x4x4x4x4x4x180__89.45__83.75.h5\n",
      "Saving Model to File : Parametric_Study_Models/retest_trained_linear_coords_relu_4x4x4x4x4x4x4x190__89.78__84.51.h5\n",
      "Saving Model to File : Parametric_Study_Models/retest_trained_linear_coords_relu_4x4x4x4x4x4x4x200__89.39__83.37.h5\n",
      "Saving Model to File : Parametric_Study_Models/retest_trained_linear_coords_relu_5x5x5x5x20__73.01__72.85.h5\n",
      "Saving Model to File : Parametric_Study_Models/retest_trained_linear_coords_relu_5x5x5x5x30__73.57__73.39.h5\n",
      "Saving Model to File : Parametric_Study_Models/retest_trained_linear_coords_relu_5x5x5x5x40__73.72__73.36.h5\n",
      "Saving Model to File : Parametric_Study_Models/retest_trained_linear_coords_relu_5x5x5x5x50__77.46__76.89.h5\n",
      "Saving Model to File : Parametric_Study_Models/retest_trained_linear_coords_relu_5x5x5x5x60__80.33__79.52.h5\n",
      "Saving Model to File : Parametric_Study_Models/retest_trained_linear_coords_relu_5x5x5x5x70__81.49__80.23.h5\n",
      "Saving Model to File : Parametric_Study_Models/retest_trained_linear_coords_relu_5x5x5x5x80__83.70__81.87.h5\n",
      "Saving Model to File : Parametric_Study_Models/retest_trained_linear_coords_relu_5x5x5x5x90__84.44__82.50.h5\n",
      "Saving Model to File : Parametric_Study_Models/retest_trained_linear_coords_relu_5x5x5x5x100__84.75__82.88.h5\n",
      "Saving Model to File : Parametric_Study_Models/retest_trained_linear_coords_relu_5x5x5x5x110__85.32__82.69.h5\n",
      "Saving Model to File : Parametric_Study_Models/retest_trained_linear_coords_relu_5x5x5x5x120__85.75__82.58.h5\n",
      "Saving Model to File : Parametric_Study_Models/retest_trained_linear_coords_relu_5x5x5x5x130__85.79__82.36.h5\n",
      "Saving Model to File : Parametric_Study_Models/retest_trained_linear_coords_relu_5x5x5x5x140__86.51__82.60.h5\n",
      "Saving Model to File : Parametric_Study_Models/retest_trained_linear_coords_relu_5x5x5x5x150__86.77__82.76.h5\n",
      "Saving Model to File : Parametric_Study_Models/retest_trained_linear_coords_relu_5x5x5x5x160__86.82__82.50.h5\n",
      "Saving Model to File : Parametric_Study_Models/retest_trained_linear_coords_relu_5x5x5x5x170__86.94__81.99.h5\n",
      "Saving Model to File : Parametric_Study_Models/retest_trained_linear_coords_relu_5x5x5x5x180__86.58__81.47.h5\n",
      "Saving Model to File : Parametric_Study_Models/retest_trained_linear_coords_relu_5x5x5x5x190__86.92__82.16.h5\n",
      "Saving Model to File : Parametric_Study_Models/retest_trained_linear_coords_relu_5x5x5x5x200__87.30__81.86.h5\n",
      "Saving Model to File : Parametric_Study_Models/retest_trained_linear_coords_relu_5x5x5x5x5x20__76.99__76.74.h5\n",
      "Saving Model to File : Parametric_Study_Models/retest_trained_linear_coords_relu_5x5x5x5x5x30__80.97__79.98.h5\n",
      "Saving Model to File : Parametric_Study_Models/retest_trained_linear_coords_relu_5x5x5x5x5x40__82.93__81.67.h5\n",
      "Saving Model to File : Parametric_Study_Models/retest_trained_linear_coords_relu_5x5x5x5x5x50__84.03__82.33.h5\n",
      "Saving Model to File : Parametric_Study_Models/retest_trained_linear_coords_relu_5x5x5x5x5x60__84.85__83.23.h5\n",
      "Saving Model to File : Parametric_Study_Models/retest_trained_linear_coords_relu_5x5x5x5x5x70__85.12__83.42.h5\n",
      "Saving Model to File : Parametric_Study_Models/retest_trained_linear_coords_relu_5x5x5x5x5x80__85.39__83.46.h5\n",
      "Saving Model to File : Parametric_Study_Models/retest_trained_linear_coords_relu_5x5x5x5x5x90__85.86__83.90.h5\n",
      "Saving Model to File : Parametric_Study_Models/retest_trained_linear_coords_relu_5x5x5x5x5x100__86.09__84.06.h5\n",
      "Saving Model to File : Parametric_Study_Models/retest_trained_linear_coords_relu_5x5x5x5x5x110__86.41__84.42.h5\n",
      "Saving Model to File : Parametric_Study_Models/retest_trained_linear_coords_relu_5x5x5x5x5x120__85.93__83.27.h5\n",
      "Saving Model to File : Parametric_Study_Models/retest_trained_linear_coords_relu_5x5x5x5x5x130__86.71__83.72.h5\n",
      "Saving Model to File : Parametric_Study_Models/retest_trained_linear_coords_relu_5x5x5x5x5x140__87.01__84.23.h5\n",
      "Saving Model to File : Parametric_Study_Models/retest_trained_linear_coords_relu_5x5x5x5x5x150__87.34__84.64.h5\n",
      "Saving Model to File : Parametric_Study_Models/retest_trained_linear_coords_relu_5x5x5x5x5x160__87.23__83.93.h5\n",
      "Saving Model to File : Parametric_Study_Models/retest_trained_linear_coords_relu_5x5x5x5x5x170__87.70__84.92.h5\n",
      "Saving Model to File : Parametric_Study_Models/retest_trained_linear_coords_relu_5x5x5x5x5x180__86.83__83.05.h5\n",
      "Saving Model to File : Parametric_Study_Models/retest_trained_linear_coords_relu_5x5x5x5x5x190__87.71__83.71.h5\n",
      "Saving Model to File : Parametric_Study_Models/retest_trained_linear_coords_relu_5x5x5x5x5x200__87.76__82.97.h5\n",
      "Saving Model to File : Parametric_Study_Models/retest_trained_linear_coords_relu_5x5x5x5x5x5x20__83.80__82.34.h5\n",
      "Saving Model to File : Parametric_Study_Models/retest_trained_linear_coords_relu_5x5x5x5x5x5x30__85.42__83.62.h5\n",
      "Saving Model to File : Parametric_Study_Models/retest_trained_linear_coords_relu_5x5x5x5x5x5x40__86.20__84.26.h5\n",
      "Saving Model to File : Parametric_Study_Models/retest_trained_linear_coords_relu_5x5x5x5x5x5x50__85.87__83.49.h5\n",
      "Saving Model to File : Parametric_Study_Models/retest_trained_linear_coords_relu_5x5x5x5x5x5x60__86.73__83.99.h5\n",
      "Saving Model to File : Parametric_Study_Models/retest_trained_linear_coords_relu_5x5x5x5x5x5x70__87.33__84.48.h5\n",
      "Saving Model to File : Parametric_Study_Models/retest_trained_linear_coords_relu_5x5x5x5x5x5x80__88.27__84.71.h5\n",
      "Saving Model to File : Parametric_Study_Models/retest_trained_linear_coords_relu_5x5x5x5x5x5x90__88.61__84.70.h5\n",
      "Saving Model to File : Parametric_Study_Models/retest_trained_linear_coords_relu_5x5x5x5x5x5x100__89.21__84.68.h5\n",
      "Saving Model to File : Parametric_Study_Models/retest_trained_linear_coords_relu_5x5x5x5x5x5x110__89.46__84.31.h5\n",
      "Saving Model to File : Parametric_Study_Models/retest_trained_linear_coords_relu_5x5x5x5x5x5x120__89.75__84.82.h5\n",
      "Saving Model to File : Parametric_Study_Models/retest_trained_linear_coords_relu_5x5x5x5x5x5x130__89.93__84.27.h5\n",
      "Saving Model to File : Parametric_Study_Models/retest_trained_linear_coords_relu_5x5x5x5x5x5x140__88.91__83.07.h5\n",
      "Saving Model to File : Parametric_Study_Models/retest_trained_linear_coords_relu_5x5x5x5x5x5x150__91.03__84.39.h5\n",
      "Saving Model to File : Parametric_Study_Models/retest_trained_linear_coords_relu_5x5x5x5x5x5x160__90.69__83.84.h5\n",
      "Saving Model to File : Parametric_Study_Models/retest_trained_linear_coords_relu_5x5x5x5x5x5x170__91.40__84.46.h5\n",
      "Saving Model to File : Parametric_Study_Models/retest_trained_linear_coords_relu_5x5x5x5x5x5x180__91.71__85.00.h5\n",
      "Saving Model to File : Parametric_Study_Models/retest_trained_linear_coords_relu_5x5x5x5x5x5x190__90.83__83.24.h5\n",
      "Saving Model to File : Parametric_Study_Models/retest_trained_linear_coords_relu_5x5x5x5x5x5x200__92.58__84.88.h5\n",
      "Saving Model to File : Parametric_Study_Models/retest_trained_linear_coords_relu_5x5x5x5x5x5x5x20__83.06__81.95.h5\n",
      "Saving Model to File : Parametric_Study_Models/retest_trained_linear_coords_relu_5x5x5x5x5x5x5x30__84.97__83.87.h5\n",
      "Saving Model to File : Parametric_Study_Models/retest_trained_linear_coords_relu_5x5x5x5x5x5x5x40__86.00__84.36.h5\n",
      "Saving Model to File : Parametric_Study_Models/retest_trained_linear_coords_relu_5x5x5x5x5x5x5x50__86.55__84.80.h5\n",
      "Saving Model to File : Parametric_Study_Models/retest_trained_linear_coords_relu_5x5x5x5x5x5x5x60__87.13__84.74.h5\n",
      "Saving Model to File : Parametric_Study_Models/retest_trained_linear_coords_relu_5x5x5x5x5x5x5x70__87.58__84.72.h5\n",
      "Saving Model to File : Parametric_Study_Models/retest_trained_linear_coords_relu_5x5x5x5x5x5x5x80__87.34__84.11.h5\n",
      "Saving Model to File : Parametric_Study_Models/retest_trained_linear_coords_relu_5x5x5x5x5x5x5x90__88.13__84.83.h5\n",
      "Saving Model to File : Parametric_Study_Models/retest_trained_linear_coords_relu_5x5x5x5x5x5x5x100__89.13__84.87.h5\n",
      "Saving Model to File : Parametric_Study_Models/retest_trained_linear_coords_relu_5x5x5x5x5x5x5x110__89.45__85.22.h5\n",
      "Saving Model to File : Parametric_Study_Models/retest_trained_linear_coords_relu_5x5x5x5x5x5x5x120__89.87__85.29.h5\n",
      "Saving Model to File : Parametric_Study_Models/retest_trained_linear_coords_relu_5x5x5x5x5x5x5x130__89.53__83.58.h5\n",
      "Saving Model to File : Parametric_Study_Models/retest_trained_linear_coords_relu_5x5x5x5x5x5x5x140__89.75__83.96.h5\n"
     ]
    },
    {
     "name": "stdout",
     "output_type": "stream",
     "text": [
      "Saving Model to File : Parametric_Study_Models/retest_trained_linear_coords_relu_5x5x5x5x5x5x5x150__89.79__82.93.h5\n",
      "Saving Model to File : Parametric_Study_Models/retest_trained_linear_coords_relu_5x5x5x5x5x5x5x160__90.84__83.86.h5\n",
      "Saving Model to File : Parametric_Study_Models/retest_trained_linear_coords_relu_5x5x5x5x5x5x5x170__91.63__84.09.h5\n",
      "Saving Model to File : Parametric_Study_Models/retest_trained_linear_coords_relu_5x5x5x5x5x5x5x180__91.80__83.74.h5\n",
      "Saving Model to File : Parametric_Study_Models/retest_trained_linear_coords_relu_5x5x5x5x5x5x5x190__92.15__83.35.h5\n",
      "Saving Model to File : Parametric_Study_Models/retest_trained_linear_coords_relu_5x5x5x5x5x5x5x200__90.89__82.03.h5\n",
      "Saving Model to File : Parametric_Study_Models/retest_trained_linear_coords_relu_6x6x6x6x20__72.64__72.36.h5\n",
      "Saving Model to File : Parametric_Study_Models/retest_trained_linear_coords_relu_6x6x6x6x30__73.03__72.97.h5\n",
      "Saving Model to File : Parametric_Study_Models/retest_trained_linear_coords_relu_6x6x6x6x40__73.69__73.33.h5\n",
      "Saving Model to File : Parametric_Study_Models/retest_trained_linear_coords_relu_6x6x6x6x50__73.80__73.40.h5\n",
      "Saving Model to File : Parametric_Study_Models/retest_trained_linear_coords_relu_6x6x6x6x60__74.17__73.82.h5\n",
      "Saving Model to File : Parametric_Study_Models/retest_trained_linear_coords_relu_6x6x6x6x70__75.10__74.47.h5\n",
      "Saving Model to File : Parametric_Study_Models/retest_trained_linear_coords_relu_6x6x6x6x80__77.77__76.75.h5\n",
      "Saving Model to File : Parametric_Study_Models/retest_trained_linear_coords_relu_6x6x6x6x90__79.55__78.46.h5\n",
      "Saving Model to File : Parametric_Study_Models/retest_trained_linear_coords_relu_6x6x6x6x100__80.90__79.62.h5\n",
      "Saving Model to File : Parametric_Study_Models/retest_trained_linear_coords_relu_6x6x6x6x110__82.30__80.49.h5\n",
      "Saving Model to File : Parametric_Study_Models/retest_trained_linear_coords_relu_6x6x6x6x120__83.24__81.47.h5\n",
      "Saving Model to File : Parametric_Study_Models/retest_trained_linear_coords_relu_6x6x6x6x130__83.86__81.83.h5\n",
      "Saving Model to File : Parametric_Study_Models/retest_trained_linear_coords_relu_6x6x6x6x140__84.90__82.76.h5\n",
      "Saving Model to File : Parametric_Study_Models/retest_trained_linear_coords_relu_6x6x6x6x150__85.42__83.19.h5\n",
      "Saving Model to File : Parametric_Study_Models/retest_trained_linear_coords_relu_6x6x6x6x160__85.76__83.12.h5\n",
      "Saving Model to File : Parametric_Study_Models/retest_trained_linear_coords_relu_6x6x6x6x170__86.22__83.72.h5\n",
      "Saving Model to File : Parametric_Study_Models/retest_trained_linear_coords_relu_6x6x6x6x180__85.89__82.47.h5\n",
      "Saving Model to File : Parametric_Study_Models/retest_trained_linear_coords_relu_6x6x6x6x190__86.88__83.60.h5\n",
      "Saving Model to File : Parametric_Study_Models/retest_trained_linear_coords_relu_6x6x6x6x200__86.99__83.69.h5\n",
      "Saving Model to File : Parametric_Study_Models/retest_trained_linear_coords_relu_6x6x6x6x6x20__73.14__72.80.h5\n",
      "Saving Model to File : Parametric_Study_Models/retest_trained_linear_coords_relu_6x6x6x6x6x30__73.71__73.53.h5\n",
      "Saving Model to File : Parametric_Study_Models/retest_trained_linear_coords_relu_6x6x6x6x6x40__77.92__76.91.h5\n",
      "Saving Model to File : Parametric_Study_Models/retest_trained_linear_coords_relu_6x6x6x6x6x50__81.84__80.67.h5\n",
      "Saving Model to File : Parametric_Study_Models/retest_trained_linear_coords_relu_6x6x6x6x6x60__85.06__83.46.h5\n",
      "Saving Model to File : Parametric_Study_Models/retest_trained_linear_coords_relu_6x6x6x6x6x70__86.42__84.60.h5\n",
      "Saving Model to File : Parametric_Study_Models/retest_trained_linear_coords_relu_6x6x6x6x6x80__86.53__84.25.h5\n",
      "Saving Model to File : Parametric_Study_Models/retest_trained_linear_coords_relu_6x6x6x6x6x90__87.17__84.66.h5\n",
      "Saving Model to File : Parametric_Study_Models/retest_trained_linear_coords_relu_6x6x6x6x6x100__87.93__84.73.h5\n",
      "Saving Model to File : Parametric_Study_Models/retest_trained_linear_coords_relu_6x6x6x6x6x110__87.69__83.71.h5\n",
      "Saving Model to File : Parametric_Study_Models/retest_trained_linear_coords_relu_6x6x6x6x6x120__88.16__83.20.h5\n",
      "Saving Model to File : Parametric_Study_Models/retest_trained_linear_coords_relu_6x6x6x6x6x130__88.63__84.09.h5\n",
      "Saving Model to File : Parametric_Study_Models/retest_trained_linear_coords_relu_6x6x6x6x6x140__87.75__82.99.h5\n",
      "Saving Model to File : Parametric_Study_Models/retest_trained_linear_coords_relu_6x6x6x6x6x150__88.41__82.72.h5\n",
      "Saving Model to File : Parametric_Study_Models/retest_trained_linear_coords_relu_6x6x6x6x6x160__89.34__83.52.h5\n",
      "Saving Model to File : Parametric_Study_Models/retest_trained_linear_coords_relu_6x6x6x6x6x170__88.80__81.99.h5\n",
      "Saving Model to File : Parametric_Study_Models/retest_trained_linear_coords_relu_6x6x6x6x6x180__89.14__83.03.h5\n",
      "Saving Model to File : Parametric_Study_Models/retest_trained_linear_coords_relu_6x6x6x6x6x190__89.39__82.19.h5\n",
      "Saving Model to File : Parametric_Study_Models/retest_trained_linear_coords_relu_6x6x6x6x6x200__90.08__82.42.h5\n",
      "Saving Model to File : Parametric_Study_Models/retest_trained_linear_coords_relu_6x6x6x6x6x6x20__83.24__81.95.h5\n",
      "Saving Model to File : Parametric_Study_Models/retest_trained_linear_coords_relu_6x6x6x6x6x6x30__84.73__83.21.h5\n",
      "Saving Model to File : Parametric_Study_Models/retest_trained_linear_coords_relu_6x6x6x6x6x6x40__85.89__83.88.h5\n",
      "Saving Model to File : Parametric_Study_Models/retest_trained_linear_coords_relu_6x6x6x6x6x6x50__87.03__85.25.h5\n",
      "Saving Model to File : Parametric_Study_Models/retest_trained_linear_coords_relu_6x6x6x6x6x6x60__86.97__84.63.h5\n",
      "Saving Model to File : Parametric_Study_Models/retest_trained_linear_coords_relu_6x6x6x6x6x6x70__87.80__85.31.h5\n",
      "Saving Model to File : Parametric_Study_Models/retest_trained_linear_coords_relu_6x6x6x6x6x6x80__87.33__83.91.h5\n",
      "Saving Model to File : Parametric_Study_Models/retest_trained_linear_coords_relu_6x6x6x6x6x6x90__87.84__84.73.h5\n",
      "Saving Model to File : Parametric_Study_Models/retest_trained_linear_coords_relu_6x6x6x6x6x6x100__88.69__85.19.h5\n",
      "Saving Model to File : Parametric_Study_Models/retest_trained_linear_coords_relu_6x6x6x6x6x6x110__88.82__84.75.h5\n",
      "Saving Model to File : Parametric_Study_Models/retest_trained_linear_coords_relu_6x6x6x6x6x6x120__89.30__84.76.h5\n",
      "Saving Model to File : Parametric_Study_Models/retest_trained_linear_coords_relu_6x6x6x6x6x6x130__89.76__85.19.h5\n",
      "Saving Model to File : Parametric_Study_Models/retest_trained_linear_coords_relu_6x6x6x6x6x6x140__89.75__84.95.h5\n",
      "Saving Model to File : Parametric_Study_Models/retest_trained_linear_coords_relu_6x6x6x6x6x6x150__90.61__84.80.h5\n",
      "Saving Model to File : Parametric_Study_Models/retest_trained_linear_coords_relu_6x6x6x6x6x6x160__90.95__84.73.h5\n",
      "Saving Model to File : Parametric_Study_Models/retest_trained_linear_coords_relu_6x6x6x6x6x6x170__91.32__85.05.h5\n",
      "Saving Model to File : Parametric_Study_Models/retest_trained_linear_coords_relu_6x6x6x6x6x6x180__91.85__84.99.h5\n",
      "Saving Model to File : Parametric_Study_Models/retest_trained_linear_coords_relu_6x6x6x6x6x6x190__92.12__84.37.h5\n",
      "Saving Model to File : Parametric_Study_Models/retest_trained_linear_coords_relu_6x6x6x6x6x6x200__90.99__82.58.h5\n",
      "Saving Model to File : Parametric_Study_Models/retest_trained_linear_coords_relu_6x6x6x6x6x6x6x20__84.90__83.78.h5\n",
      "Saving Model to File : Parametric_Study_Models/retest_trained_linear_coords_relu_6x6x6x6x6x6x6x30__85.62__84.06.h5\n",
      "Saving Model to File : Parametric_Study_Models/retest_trained_linear_coords_relu_6x6x6x6x6x6x6x40__86.55__83.90.h5\n",
      "Saving Model to File : Parametric_Study_Models/retest_trained_linear_coords_relu_6x6x6x6x6x6x6x50__87.81__85.07.h5\n",
      "Saving Model to File : Parametric_Study_Models/retest_trained_linear_coords_relu_6x6x6x6x6x6x6x60__86.95__84.31.h5\n",
      "Saving Model to File : Parametric_Study_Models/retest_trained_linear_coords_relu_6x6x6x6x6x6x6x70__88.79__85.20.h5\n",
      "Saving Model to File : Parametric_Study_Models/retest_trained_linear_coords_relu_6x6x6x6x6x6x6x80__87.09__83.53.h5\n",
      "Saving Model to File : Parametric_Study_Models/retest_trained_linear_coords_relu_6x6x6x6x6x6x6x90__89.77__85.43.h5\n",
      "Saving Model to File : Parametric_Study_Models/retest_trained_linear_coords_relu_6x6x6x6x6x6x6x100__89.84__85.05.h5\n",
      "Saving Model to File : Parametric_Study_Models/retest_trained_linear_coords_relu_6x6x6x6x6x6x6x110__90.51__84.96.h5\n"
     ]
    },
    {
     "name": "stdout",
     "output_type": "stream",
     "text": [
      "Saving Model to File : Parametric_Study_Models/retest_trained_linear_coords_relu_6x6x6x6x6x6x6x120__89.91__84.16.h5\n",
      "Saving Model to File : Parametric_Study_Models/retest_trained_linear_coords_relu_6x6x6x6x6x6x6x130__91.75__84.33.h5\n",
      "Saving Model to File : Parametric_Study_Models/retest_trained_linear_coords_relu_6x6x6x6x6x6x6x140__92.41__84.56.h5\n",
      "Saving Model to File : Parametric_Study_Models/retest_trained_linear_coords_relu_6x6x6x6x6x6x6x150__93.14__83.79.h5\n",
      "Saving Model to File : Parametric_Study_Models/retest_trained_linear_coords_relu_6x6x6x6x6x6x6x160__93.50__83.81.h5\n",
      "Saving Model to File : Parametric_Study_Models/retest_trained_linear_coords_relu_6x6x6x6x6x6x6x170__93.48__84.03.h5\n",
      "Saving Model to File : Parametric_Study_Models/retest_trained_linear_coords_relu_6x6x6x6x6x6x6x180__93.23__83.55.h5\n",
      "Saving Model to File : Parametric_Study_Models/retest_trained_linear_coords_relu_6x6x6x6x6x6x6x190__94.03__82.78.h5\n",
      "Saving Model to File : Parametric_Study_Models/retest_trained_linear_coords_relu_6x6x6x6x6x6x6x200__94.63__83.64.h5\n",
      "Saving Model to File : Parametric_Study_Models/retest_trained_linear_coords_selu_4x4x4x4x20__77.46__76.36.h5\n",
      "Saving Model to File : Parametric_Study_Models/retest_trained_linear_coords_selu_4x4x4x4x30__79.99__79.15.h5\n",
      "Saving Model to File : Parametric_Study_Models/retest_trained_linear_coords_selu_4x4x4x4x40__82.04__81.28.h5\n",
      "Saving Model to File : Parametric_Study_Models/retest_trained_linear_coords_selu_4x4x4x4x50__83.10__82.18.h5\n",
      "Saving Model to File : Parametric_Study_Models/retest_trained_linear_coords_selu_4x4x4x4x60__83.90__83.11.h5\n",
      "Saving Model to File : Parametric_Study_Models/retest_trained_linear_coords_selu_4x4x4x4x70__84.34__83.30.h5\n",
      "Saving Model to File : Parametric_Study_Models/retest_trained_linear_coords_selu_4x4x4x4x80__84.79__83.58.h5\n",
      "Saving Model to File : Parametric_Study_Models/retest_trained_linear_coords_selu_4x4x4x4x90__85.11__83.94.h5\n",
      "Saving Model to File : Parametric_Study_Models/retest_trained_linear_coords_selu_4x4x4x4x100__85.29__84.00.h5\n",
      "Saving Model to File : Parametric_Study_Models/retest_trained_linear_coords_selu_4x4x4x4x110__85.57__84.27.h5\n",
      "Saving Model to File : Parametric_Study_Models/retest_trained_linear_coords_selu_4x4x4x4x120__85.88__84.43.h5\n",
      "Saving Model to File : Parametric_Study_Models/retest_trained_linear_coords_selu_4x4x4x4x130__85.94__84.55.h5\n",
      "Saving Model to File : Parametric_Study_Models/retest_trained_linear_coords_selu_4x4x4x4x140__86.13__84.59.h5\n",
      "Saving Model to File : Parametric_Study_Models/retest_trained_linear_coords_selu_4x4x4x4x150__86.32__84.53.h5\n",
      "Saving Model to File : Parametric_Study_Models/retest_trained_linear_coords_selu_4x4x4x4x160__86.50__84.70.h5\n",
      "Saving Model to File : Parametric_Study_Models/retest_trained_linear_coords_selu_4x4x4x4x170__86.14__84.05.h5\n",
      "Saving Model to File : Parametric_Study_Models/retest_trained_linear_coords_selu_4x4x4x4x180__86.60__84.42.h5\n",
      "Saving Model to File : Parametric_Study_Models/retest_trained_linear_coords_selu_4x4x4x4x190__86.94__84.73.h5\n",
      "Saving Model to File : Parametric_Study_Models/retest_trained_linear_coords_selu_4x4x4x4x200__86.89__84.59.h5\n",
      "Saving Model to File : Parametric_Study_Models/retest_trained_linear_coords_selu_4x4x4x4x4x20__80.81__79.98.h5\n",
      "Saving Model to File : Parametric_Study_Models/retest_trained_linear_coords_selu_4x4x4x4x4x30__82.70__81.75.h5\n",
      "Saving Model to File : Parametric_Study_Models/retest_trained_linear_coords_selu_4x4x4x4x4x40__83.94__82.88.h5\n",
      "Saving Model to File : Parametric_Study_Models/retest_trained_linear_coords_selu_4x4x4x4x4x50__84.82__83.67.h5\n",
      "Saving Model to File : Parametric_Study_Models/retest_trained_linear_coords_selu_4x4x4x4x4x60__85.37__83.99.h5\n",
      "Saving Model to File : Parametric_Study_Models/retest_trained_linear_coords_selu_4x4x4x4x4x70__85.73__84.05.h5\n",
      "Saving Model to File : Parametric_Study_Models/retest_trained_linear_coords_selu_4x4x4x4x4x80__85.75__83.85.h5\n",
      "Saving Model to File : Parametric_Study_Models/retest_trained_linear_coords_selu_4x4x4x4x4x90__85.59__83.98.h5\n",
      "Saving Model to File : Parametric_Study_Models/retest_trained_linear_coords_selu_4x4x4x4x4x100__84.74__83.02.h5\n",
      "Saving Model to File : Parametric_Study_Models/retest_trained_linear_coords_selu_4x4x4x4x4x110__86.93__84.65.h5\n",
      "Saving Model to File : Parametric_Study_Models/retest_trained_linear_coords_selu_4x4x4x4x4x120__87.11__84.77.h5\n",
      "Saving Model to File : Parametric_Study_Models/retest_trained_linear_coords_selu_4x4x4x4x4x130__86.78__84.44.h5\n",
      "Saving Model to File : Parametric_Study_Models/retest_trained_linear_coords_selu_4x4x4x4x4x140__87.42__84.60.h5\n",
      "Saving Model to File : Parametric_Study_Models/retest_trained_linear_coords_selu_4x4x4x4x4x150__87.85__84.97.h5\n",
      "Saving Model to File : Parametric_Study_Models/retest_trained_linear_coords_selu_4x4x4x4x4x160__87.90__84.83.h5\n",
      "Saving Model to File : Parametric_Study_Models/retest_trained_linear_coords_selu_4x4x4x4x4x170__88.22__85.03.h5\n",
      "Saving Model to File : Parametric_Study_Models/retest_trained_linear_coords_selu_4x4x4x4x4x180__88.25__84.94.h5\n",
      "Saving Model to File : Parametric_Study_Models/retest_trained_linear_coords_selu_4x4x4x4x4x190__88.54__85.14.h5\n",
      "Saving Model to File : Parametric_Study_Models/retest_trained_linear_coords_selu_4x4x4x4x4x200__88.89__85.28.h5\n",
      "Saving Model to File : Parametric_Study_Models/retest_trained_linear_coords_selu_4x4x4x4x4x4x20__82.40__81.30.h5\n",
      "Saving Model to File : Parametric_Study_Models/retest_trained_linear_coords_selu_4x4x4x4x4x4x30__83.94__82.21.h5\n",
      "Saving Model to File : Parametric_Study_Models/retest_trained_linear_coords_selu_4x4x4x4x4x4x40__85.17__82.99.h5\n",
      "Saving Model to File : Parametric_Study_Models/retest_trained_linear_coords_selu_4x4x4x4x4x4x50__85.88__83.28.h5\n",
      "Saving Model to File : Parametric_Study_Models/retest_trained_linear_coords_selu_4x4x4x4x4x4x60__86.39__83.50.h5\n",
      "Saving Model to File : Parametric_Study_Models/retest_trained_linear_coords_selu_4x4x4x4x4x4x70__86.43__83.44.h5\n",
      "Saving Model to File : Parametric_Study_Models/retest_trained_linear_coords_selu_4x4x4x4x4x4x80__86.89__83.75.h5\n",
      "Saving Model to File : Parametric_Study_Models/retest_trained_linear_coords_selu_4x4x4x4x4x4x90__87.82__84.10.h5\n",
      "Saving Model to File : Parametric_Study_Models/retest_trained_linear_coords_selu_4x4x4x4x4x4x100__87.89__83.84.h5\n",
      "Saving Model to File : Parametric_Study_Models/retest_trained_linear_coords_selu_4x4x4x4x4x4x110__88.52__84.10.h5\n",
      "Saving Model to File : Parametric_Study_Models/retest_trained_linear_coords_selu_4x4x4x4x4x4x120__88.05__83.45.h5\n",
      "Saving Model to File : Parametric_Study_Models/retest_trained_linear_coords_selu_4x4x4x4x4x4x130__89.18__84.32.h5\n",
      "Saving Model to File : Parametric_Study_Models/retest_trained_linear_coords_selu_4x4x4x4x4x4x140__88.78__83.16.h5\n",
      "Saving Model to File : Parametric_Study_Models/retest_trained_linear_coords_selu_4x4x4x4x4x4x150__89.73__83.81.h5\n",
      "Saving Model to File : Parametric_Study_Models/retest_trained_linear_coords_selu_4x4x4x4x4x4x160__90.02__83.94.h5\n",
      "Saving Model to File : Parametric_Study_Models/retest_trained_linear_coords_selu_4x4x4x4x4x4x170__90.33__84.23.h5\n",
      "Saving Model to File : Parametric_Study_Models/retest_trained_linear_coords_selu_4x4x4x4x4x4x180__90.28__83.79.h5\n",
      "Saving Model to File : Parametric_Study_Models/retest_trained_linear_coords_selu_4x4x4x4x4x4x190__90.86__84.17.h5\n",
      "Saving Model to File : Parametric_Study_Models/retest_trained_linear_coords_selu_4x4x4x4x4x4x200__90.94__83.52.h5\n",
      "Saving Model to File : Parametric_Study_Models/retest_trained_linear_coords_selu_4x4x4x4x4x4x4x20__84.33__82.39.h5\n",
      "Saving Model to File : Parametric_Study_Models/retest_trained_linear_coords_selu_4x4x4x4x4x4x4x30__85.13__82.81.h5\n",
      "Saving Model to File : Parametric_Study_Models/retest_trained_linear_coords_selu_4x4x4x4x4x4x4x40__85.00__81.81.h5\n",
      "Saving Model to File : Parametric_Study_Models/retest_trained_linear_coords_selu_4x4x4x4x4x4x4x50__86.55__83.51.h5\n",
      "Saving Model to File : Parametric_Study_Models/retest_trained_linear_coords_selu_4x4x4x4x4x4x4x60__86.90__82.75.h5\n",
      "Saving Model to File : Parametric_Study_Models/retest_trained_linear_coords_selu_4x4x4x4x4x4x4x70__87.56__83.41.h5\n",
      "Saving Model to File : Parametric_Study_Models/retest_trained_linear_coords_selu_4x4x4x4x4x4x4x80__88.57__83.41.h5\n"
     ]
    },
    {
     "name": "stdout",
     "output_type": "stream",
     "text": [
      "Saving Model to File : Parametric_Study_Models/retest_trained_linear_coords_selu_4x4x4x4x4x4x4x90__88.88__83.73.h5\n",
      "Saving Model to File : Parametric_Study_Models/retest_trained_linear_coords_selu_4x4x4x4x4x4x4x100__89.56__83.34.h5\n",
      "Saving Model to File : Parametric_Study_Models/retest_trained_linear_coords_selu_4x4x4x4x4x4x4x110__89.55__81.51.h5\n",
      "Saving Model to File : Parametric_Study_Models/retest_trained_linear_coords_selu_4x4x4x4x4x4x4x120__88.63__81.64.h5\n",
      "Saving Model to File : Parametric_Study_Models/retest_trained_linear_coords_selu_4x4x4x4x4x4x4x130__89.39__78.49.h5\n",
      "Saving Model to File : Parametric_Study_Models/retest_trained_linear_coords_selu_4x4x4x4x4x4x4x140__89.53__81.15.h5\n",
      "Saving Model to File : Parametric_Study_Models/retest_trained_linear_coords_selu_4x4x4x4x4x4x4x150__91.13__81.67.h5\n",
      "Saving Model to File : Parametric_Study_Models/retest_trained_linear_coords_selu_4x4x4x4x4x4x4x160__91.70__79.61.h5\n",
      "Saving Model to File : Parametric_Study_Models/retest_trained_linear_coords_selu_4x4x4x4x4x4x4x170__92.13__79.30.h5\n",
      "Saving Model to File : Parametric_Study_Models/retest_trained_linear_coords_selu_4x4x4x4x4x4x4x180__92.16__76.04.h5\n",
      "Saving Model to File : Parametric_Study_Models/retest_trained_linear_coords_selu_4x4x4x4x4x4x4x190__91.07__78.06.h5\n",
      "Saving Model to File : Parametric_Study_Models/retest_trained_linear_coords_selu_4x4x4x4x4x4x4x200__92.29__75.51.h5\n",
      "Saving Model to File : Parametric_Study_Models/retest_trained_linear_coords_selu_5x5x5x5x20__72.78__72.39.h5\n",
      "Saving Model to File : Parametric_Study_Models/retest_trained_linear_coords_selu_5x5x5x5x30__78.40__77.57.h5\n",
      "Saving Model to File : Parametric_Study_Models/retest_trained_linear_coords_selu_5x5x5x5x40__81.90__81.16.h5\n",
      "Saving Model to File : Parametric_Study_Models/retest_trained_linear_coords_selu_5x5x5x5x50__82.62__82.11.h5\n",
      "Saving Model to File : Parametric_Study_Models/retest_trained_linear_coords_selu_5x5x5x5x60__84.08__83.38.h5\n",
      "Saving Model to File : Parametric_Study_Models/retest_trained_linear_coords_selu_5x5x5x5x70__84.39__83.42.h5\n",
      "Saving Model to File : Parametric_Study_Models/retest_trained_linear_coords_selu_5x5x5x5x80__84.80__83.91.h5\n",
      "Saving Model to File : Parametric_Study_Models/retest_trained_linear_coords_selu_5x5x5x5x90__85.29__83.97.h5\n",
      "Saving Model to File : Parametric_Study_Models/retest_trained_linear_coords_selu_5x5x5x5x100__85.58__84.16.h5\n",
      "Saving Model to File : Parametric_Study_Models/retest_trained_linear_coords_selu_5x5x5x5x110__85.76__84.10.h5\n",
      "Saving Model to File : Parametric_Study_Models/retest_trained_linear_coords_selu_5x5x5x5x120__86.38__84.64.h5\n",
      "Saving Model to File : Parametric_Study_Models/retest_trained_linear_coords_selu_5x5x5x5x130__86.55__84.58.h5\n",
      "Saving Model to File : Parametric_Study_Models/retest_trained_linear_coords_selu_5x5x5x5x140__86.80__84.84.h5\n",
      "Saving Model to File : Parametric_Study_Models/retest_trained_linear_coords_selu_5x5x5x5x150__86.91__84.56.h5\n",
      "Saving Model to File : Parametric_Study_Models/retest_trained_linear_coords_selu_5x5x5x5x160__86.95__84.49.h5\n",
      "Saving Model to File : Parametric_Study_Models/retest_trained_linear_coords_selu_5x5x5x5x170__87.52__84.92.h5\n",
      "Saving Model to File : Parametric_Study_Models/retest_trained_linear_coords_selu_5x5x5x5x180__87.62__84.93.h5\n",
      "Saving Model to File : Parametric_Study_Models/retest_trained_linear_coords_selu_5x5x5x5x190__87.79__84.78.h5\n",
      "Saving Model to File : Parametric_Study_Models/retest_trained_linear_coords_selu_5x5x5x5x200__88.01__85.03.h5\n",
      "Saving Model to File : Parametric_Study_Models/retest_trained_linear_coords_selu_5x5x5x5x5x20__80.47__79.64.h5\n",
      "Saving Model to File : Parametric_Study_Models/retest_trained_linear_coords_selu_5x5x5x5x5x30__83.37__82.53.h5\n",
      "Saving Model to File : Parametric_Study_Models/retest_trained_linear_coords_selu_5x5x5x5x5x40__84.36__83.30.h5\n",
      "Saving Model to File : Parametric_Study_Models/retest_trained_linear_coords_selu_5x5x5x5x5x50__84.96__83.50.h5\n",
      "Saving Model to File : Parametric_Study_Models/retest_trained_linear_coords_selu_5x5x5x5x5x60__85.55__83.26.h5\n",
      "Saving Model to File : Parametric_Study_Models/retest_trained_linear_coords_selu_5x5x5x5x5x70__85.55__83.44.h5\n",
      "Saving Model to File : Parametric_Study_Models/retest_trained_linear_coords_selu_5x5x5x5x5x80__86.05__83.19.h5\n",
      "Saving Model to File : Parametric_Study_Models/retest_trained_linear_coords_selu_5x5x5x5x5x90__86.84__83.56.h5\n",
      "Saving Model to File : Parametric_Study_Models/retest_trained_linear_coords_selu_5x5x5x5x5x100__87.24__83.08.h5\n",
      "Saving Model to File : Parametric_Study_Models/retest_trained_linear_coords_selu_5x5x5x5x5x110__86.99__82.68.h5\n",
      "Saving Model to File : Parametric_Study_Models/retest_trained_linear_coords_selu_5x5x5x5x5x120__86.89__83.01.h5\n",
      "Saving Model to File : Parametric_Study_Models/retest_trained_linear_coords_selu_5x5x5x5x5x130__88.06__82.73.h5\n",
      "Saving Model to File : Parametric_Study_Models/retest_trained_linear_coords_selu_5x5x5x5x5x140__88.44__82.63.h5\n",
      "Saving Model to File : Parametric_Study_Models/retest_trained_linear_coords_selu_5x5x5x5x5x150__87.73__81.90.h5\n",
      "Saving Model to File : Parametric_Study_Models/retest_trained_linear_coords_selu_5x5x5x5x5x160__88.54__82.32.h5\n",
      "Saving Model to File : Parametric_Study_Models/retest_trained_linear_coords_selu_5x5x5x5x5x170__88.34__81.63.h5\n",
      "Saving Model to File : Parametric_Study_Models/retest_trained_linear_coords_selu_5x5x5x5x5x180__88.87__82.78.h5\n",
      "Saving Model to File : Parametric_Study_Models/retest_trained_linear_coords_selu_5x5x5x5x5x190__88.38__82.26.h5\n",
      "Saving Model to File : Parametric_Study_Models/retest_trained_linear_coords_selu_5x5x5x5x5x200__89.47__81.59.h5\n",
      "Saving Model to File : Parametric_Study_Models/retest_trained_linear_coords_selu_5x5x5x5x5x5x20__83.38__82.24.h5\n",
      "Saving Model to File : Parametric_Study_Models/retest_trained_linear_coords_selu_5x5x5x5x5x5x30__84.38__83.25.h5\n",
      "Saving Model to File : Parametric_Study_Models/retest_trained_linear_coords_selu_5x5x5x5x5x5x40__85.54__83.66.h5\n",
      "Saving Model to File : Parametric_Study_Models/retest_trained_linear_coords_selu_5x5x5x5x5x5x50__85.86__83.50.h5\n",
      "Saving Model to File : Parametric_Study_Models/retest_trained_linear_coords_selu_5x5x5x5x5x5x60__87.06__84.30.h5\n",
      "Saving Model to File : Parametric_Study_Models/retest_trained_linear_coords_selu_5x5x5x5x5x5x70__87.81__84.67.h5\n",
      "Saving Model to File : Parametric_Study_Models/retest_trained_linear_coords_selu_5x5x5x5x5x5x80__88.66__85.07.h5\n",
      "Saving Model to File : Parametric_Study_Models/retest_trained_linear_coords_selu_5x5x5x5x5x5x90__89.01__84.92.h5\n",
      "Saving Model to File : Parametric_Study_Models/retest_trained_linear_coords_selu_5x5x5x5x5x5x100__88.90__84.24.h5\n",
      "Saving Model to File : Parametric_Study_Models/retest_trained_linear_coords_selu_5x5x5x5x5x5x110__89.70__84.52.h5\n",
      "Saving Model to File : Parametric_Study_Models/retest_trained_linear_coords_selu_5x5x5x5x5x5x120__88.56__82.36.h5\n",
      "Saving Model to File : Parametric_Study_Models/retest_trained_linear_coords_selu_5x5x5x5x5x5x130__90.43__83.26.h5\n",
      "Saving Model to File : Parametric_Study_Models/retest_trained_linear_coords_selu_5x5x5x5x5x5x140__90.58__83.48.h5\n",
      "Saving Model to File : Parametric_Study_Models/retest_trained_linear_coords_selu_5x5x5x5x5x5x150__91.19__83.52.h5\n",
      "Saving Model to File : Parametric_Study_Models/retest_trained_linear_coords_selu_5x5x5x5x5x5x160__91.98__84.25.h5\n",
      "Saving Model to File : Parametric_Study_Models/retest_trained_linear_coords_selu_5x5x5x5x5x5x170__92.05__83.77.h5\n",
      "Saving Model to File : Parametric_Study_Models/retest_trained_linear_coords_selu_5x5x5x5x5x5x180__91.41__82.51.h5\n",
      "Saving Model to File : Parametric_Study_Models/retest_trained_linear_coords_selu_5x5x5x5x5x5x190__92.73__83.44.h5\n",
      "Saving Model to File : Parametric_Study_Models/retest_trained_linear_coords_selu_5x5x5x5x5x5x200__92.56__83.62.h5\n",
      "Saving Model to File : Parametric_Study_Models/retest_trained_linear_coords_selu_5x5x5x5x5x5x5x20__83.76__82.49.h5\n",
      "Saving Model to File : Parametric_Study_Models/retest_trained_linear_coords_selu_5x5x5x5x5x5x5x30__85.05__83.29.h5\n",
      "Saving Model to File : Parametric_Study_Models/retest_trained_linear_coords_selu_5x5x5x5x5x5x5x40__85.83__83.98.h5\n",
      "Saving Model to File : Parametric_Study_Models/retest_trained_linear_coords_selu_5x5x5x5x5x5x5x50__86.98__84.40.h5\n"
     ]
    },
    {
     "name": "stdout",
     "output_type": "stream",
     "text": [
      "Saving Model to File : Parametric_Study_Models/retest_trained_linear_coords_selu_5x5x5x5x5x5x5x60__87.48__84.29.h5\n",
      "Saving Model to File : Parametric_Study_Models/retest_trained_linear_coords_selu_5x5x5x5x5x5x5x70__88.28__84.94.h5\n",
      "Saving Model to File : Parametric_Study_Models/retest_trained_linear_coords_selu_5x5x5x5x5x5x5x80__88.12__84.59.h5\n",
      "Saving Model to File : Parametric_Study_Models/retest_trained_linear_coords_selu_5x5x5x5x5x5x5x90__89.25__84.83.h5\n",
      "Saving Model to File : Parametric_Study_Models/retest_trained_linear_coords_selu_5x5x5x5x5x5x5x100__89.57__84.80.h5\n",
      "Saving Model to File : Parametric_Study_Models/retest_trained_linear_coords_selu_5x5x5x5x5x5x5x110__90.38__84.60.h5\n",
      "Saving Model to File : Parametric_Study_Models/retest_trained_linear_coords_selu_5x5x5x5x5x5x5x120__90.77__84.39.h5\n",
      "Saving Model to File : Parametric_Study_Models/retest_trained_linear_coords_selu_5x5x5x5x5x5x5x130__90.78__84.19.h5\n",
      "Saving Model to File : Parametric_Study_Models/retest_trained_linear_coords_selu_5x5x5x5x5x5x5x140__91.62__84.87.h5\n",
      "Saving Model to File : Parametric_Study_Models/retest_trained_linear_coords_selu_5x5x5x5x5x5x5x150__91.60__83.77.h5\n",
      "Saving Model to File : Parametric_Study_Models/retest_trained_linear_coords_selu_5x5x5x5x5x5x5x160__91.90__83.79.h5\n",
      "Saving Model to File : Parametric_Study_Models/retest_trained_linear_coords_selu_5x5x5x5x5x5x5x170__92.92__83.39.h5\n",
      "Saving Model to File : Parametric_Study_Models/retest_trained_linear_coords_selu_5x5x5x5x5x5x5x180__92.26__82.00.h5\n",
      "Saving Model to File : Parametric_Study_Models/retest_trained_linear_coords_selu_5x5x5x5x5x5x5x190__92.78__82.22.h5\n",
      "Saving Model to File : Parametric_Study_Models/retest_trained_linear_coords_selu_5x5x5x5x5x5x5x200__93.10__82.76.h5\n",
      "Saving Model to File : Parametric_Study_Models/retest_trained_linear_coords_selu_6x6x6x6x20__75.61__74.72.h5\n",
      "Saving Model to File : Parametric_Study_Models/retest_trained_linear_coords_selu_6x6x6x6x30__79.40__78.50.h5\n",
      "Saving Model to File : Parametric_Study_Models/retest_trained_linear_coords_selu_6x6x6x6x40__81.60__80.74.h5\n",
      "Saving Model to File : Parametric_Study_Models/retest_trained_linear_coords_selu_6x6x6x6x50__82.94__82.24.h5\n",
      "Saving Model to File : Parametric_Study_Models/retest_trained_linear_coords_selu_6x6x6x6x60__84.04__83.40.h5\n",
      "Saving Model to File : Parametric_Study_Models/retest_trained_linear_coords_selu_6x6x6x6x70__84.60__84.21.h5\n",
      "Saving Model to File : Parametric_Study_Models/retest_trained_linear_coords_selu_6x6x6x6x80__85.24__84.40.h5\n",
      "Saving Model to File : Parametric_Study_Models/retest_trained_linear_coords_selu_6x6x6x6x90__85.64__84.55.h5\n",
      "Saving Model to File : Parametric_Study_Models/retest_trained_linear_coords_selu_6x6x6x6x100__85.84__84.37.h5\n",
      "Saving Model to File : Parametric_Study_Models/retest_trained_linear_coords_selu_6x6x6x6x110__86.30__84.71.h5\n",
      "Saving Model to File : Parametric_Study_Models/retest_trained_linear_coords_selu_6x6x6x6x120__86.47__84.77.h5\n",
      "Saving Model to File : Parametric_Study_Models/retest_trained_linear_coords_selu_6x6x6x6x130__86.65__84.78.h5\n",
      "Saving Model to File : Parametric_Study_Models/retest_trained_linear_coords_selu_6x6x6x6x140__86.83__84.82.h5\n",
      "Saving Model to File : Parametric_Study_Models/retest_trained_linear_coords_selu_6x6x6x6x150__87.12__84.66.h5\n",
      "Saving Model to File : Parametric_Study_Models/retest_trained_linear_coords_selu_6x6x6x6x160__87.59__85.10.h5\n",
      "Saving Model to File : Parametric_Study_Models/retest_trained_linear_coords_selu_6x6x6x6x170__87.94__85.11.h5\n",
      "Saving Model to File : Parametric_Study_Models/retest_trained_linear_coords_selu_6x6x6x6x180__88.05__85.05.h5\n",
      "Saving Model to File : Parametric_Study_Models/retest_trained_linear_coords_selu_6x6x6x6x190__88.39__85.06.h5\n",
      "Saving Model to File : Parametric_Study_Models/retest_trained_linear_coords_selu_6x6x6x6x200__88.33__84.92.h5\n",
      "Saving Model to File : Parametric_Study_Models/retest_trained_linear_coords_selu_6x6x6x6x6x20__81.22__80.74.h5\n",
      "Saving Model to File : Parametric_Study_Models/retest_trained_linear_coords_selu_6x6x6x6x6x30__83.00__82.34.h5\n",
      "Saving Model to File : Parametric_Study_Models/retest_trained_linear_coords_selu_6x6x6x6x6x40__85.20__84.04.h5\n",
      "Saving Model to File : Parametric_Study_Models/retest_trained_linear_coords_selu_6x6x6x6x6x50__85.28__83.73.h5\n",
      "Saving Model to File : Parametric_Study_Models/retest_trained_linear_coords_selu_6x6x6x6x6x60__86.51__84.67.h5\n",
      "Saving Model to File : Parametric_Study_Models/retest_trained_linear_coords_selu_6x6x6x6x6x70__86.12__83.98.h5\n",
      "Saving Model to File : Parametric_Study_Models/retest_trained_linear_coords_selu_6x6x6x6x6x80__87.33__84.71.h5\n",
      "Saving Model to File : Parametric_Study_Models/retest_trained_linear_coords_selu_6x6x6x6x6x90__87.85__84.91.h5\n",
      "Saving Model to File : Parametric_Study_Models/retest_trained_linear_coords_selu_6x6x6x6x6x100__88.17__84.96.h5\n",
      "Saving Model to File : Parametric_Study_Models/retest_trained_linear_coords_selu_6x6x6x6x6x110__87.82__84.34.h5\n",
      "Saving Model to File : Parametric_Study_Models/retest_trained_linear_coords_selu_6x6x6x6x6x120__88.84__84.75.h5\n",
      "Saving Model to File : Parametric_Study_Models/retest_trained_linear_coords_selu_6x6x6x6x6x130__89.36__84.46.h5\n",
      "Saving Model to File : Parametric_Study_Models/retest_trained_linear_coords_selu_6x6x6x6x6x140__88.97__83.86.h5\n",
      "Saving Model to File : Parametric_Study_Models/retest_trained_linear_coords_selu_6x6x6x6x6x150__89.67__84.74.h5\n",
      "Saving Model to File : Parametric_Study_Models/retest_trained_linear_coords_selu_6x6x6x6x6x160__90.35__84.94.h5\n",
      "Saving Model to File : Parametric_Study_Models/retest_trained_linear_coords_selu_6x6x6x6x6x170__90.42__84.67.h5\n",
      "Saving Model to File : Parametric_Study_Models/retest_trained_linear_coords_selu_6x6x6x6x6x180__90.55__84.35.h5\n",
      "Saving Model to File : Parametric_Study_Models/retest_trained_linear_coords_selu_6x6x6x6x6x190__90.63__84.02.h5\n",
      "Saving Model to File : Parametric_Study_Models/retest_trained_linear_coords_selu_6x6x6x6x6x200__91.51__84.50.h5\n",
      "Saving Model to File : Parametric_Study_Models/retest_trained_linear_coords_selu_6x6x6x6x6x6x20__83.69__82.14.h5\n",
      "Saving Model to File : Parametric_Study_Models/retest_trained_linear_coords_selu_6x6x6x6x6x6x30__85.26__83.06.h5\n",
      "Saving Model to File : Parametric_Study_Models/retest_trained_linear_coords_selu_6x6x6x6x6x6x40__85.91__83.88.h5\n",
      "Saving Model to File : Parametric_Study_Models/retest_trained_linear_coords_selu_6x6x6x6x6x6x50__86.42__83.00.h5\n",
      "Saving Model to File : Parametric_Study_Models/retest_trained_linear_coords_selu_6x6x6x6x6x6x60__87.14__84.04.h5\n",
      "Saving Model to File : Parametric_Study_Models/retest_trained_linear_coords_selu_6x6x6x6x6x6x70__87.41__83.42.h5\n",
      "Saving Model to File : Parametric_Study_Models/retest_trained_linear_coords_selu_6x6x6x6x6x6x80__87.79__83.83.h5\n",
      "Saving Model to File : Parametric_Study_Models/retest_trained_linear_coords_selu_6x6x6x6x6x6x90__88.27__84.24.h5\n",
      "Saving Model to File : Parametric_Study_Models/retest_trained_linear_coords_selu_6x6x6x6x6x6x100__88.51__84.32.h5\n",
      "Saving Model to File : Parametric_Study_Models/retest_trained_linear_coords_selu_6x6x6x6x6x6x110__88.36__84.36.h5\n",
      "Saving Model to File : Parametric_Study_Models/retest_trained_linear_coords_selu_6x6x6x6x6x6x120__89.26__83.86.h5\n",
      "Saving Model to File : Parametric_Study_Models/retest_trained_linear_coords_selu_6x6x6x6x6x6x130__89.36__84.27.h5\n",
      "Saving Model to File : Parametric_Study_Models/retest_trained_linear_coords_selu_6x6x6x6x6x6x140__89.38__84.31.h5\n",
      "Saving Model to File : Parametric_Study_Models/retest_trained_linear_coords_selu_6x6x6x6x6x6x150__89.90__83.03.h5\n",
      "Saving Model to File : Parametric_Study_Models/retest_trained_linear_coords_selu_6x6x6x6x6x6x160__88.15__80.83.h5\n",
      "Saving Model to File : Parametric_Study_Models/retest_trained_linear_coords_selu_6x6x6x6x6x6x170__90.26__84.73.h5\n",
      "Saving Model to File : Parametric_Study_Models/retest_trained_linear_coords_selu_6x6x6x6x6x6x180__88.95__82.69.h5\n",
      "Saving Model to File : Parametric_Study_Models/retest_trained_linear_coords_selu_6x6x6x6x6x6x190__90.84__84.04.h5\n",
      "Saving Model to File : Parametric_Study_Models/retest_trained_linear_coords_selu_6x6x6x6x6x6x200__90.89__82.83.h5\n",
      "Saving Model to File : Parametric_Study_Models/retest_trained_linear_coords_selu_6x6x6x6x6x6x6x20__84.52__83.27.h5\n"
     ]
    },
    {
     "name": "stdout",
     "output_type": "stream",
     "text": [
      "Saving Model to File : Parametric_Study_Models/retest_trained_linear_coords_selu_6x6x6x6x6x6x6x30__83.61__81.71.h5\n",
      "Saving Model to File : Parametric_Study_Models/retest_trained_linear_coords_selu_6x6x6x6x6x6x6x40__86.63__84.01.h5\n",
      "Saving Model to File : Parametric_Study_Models/retest_trained_linear_coords_selu_6x6x6x6x6x6x6x50__87.22__83.78.h5\n",
      "Saving Model to File : Parametric_Study_Models/retest_trained_linear_coords_selu_6x6x6x6x6x6x6x60__87.22__83.39.h5\n",
      "Saving Model to File : Parametric_Study_Models/retest_trained_linear_coords_selu_6x6x6x6x6x6x6x70__89.25__83.96.h5\n",
      "Saving Model to File : Parametric_Study_Models/retest_trained_linear_coords_selu_6x6x6x6x6x6x6x80__88.15__81.81.h5\n",
      "Saving Model to File : Parametric_Study_Models/retest_trained_linear_coords_selu_6x6x6x6x6x6x6x90__90.20__83.71.h5\n",
      "Saving Model to File : Parametric_Study_Models/retest_trained_linear_coords_selu_6x6x6x6x6x6x6x100__91.09__84.52.h5\n",
      "Saving Model to File : Parametric_Study_Models/retest_trained_linear_coords_selu_6x6x6x6x6x6x6x110__91.51__84.46.h5\n",
      "Saving Model to File : Parametric_Study_Models/retest_trained_linear_coords_selu_6x6x6x6x6x6x6x120__92.24__84.40.h5\n",
      "Saving Model to File : Parametric_Study_Models/retest_trained_linear_coords_selu_6x6x6x6x6x6x6x130__92.70__84.31.h5\n",
      "Saving Model to File : Parametric_Study_Models/retest_trained_linear_coords_selu_6x6x6x6x6x6x6x140__92.92__84.39.h5\n",
      "Saving Model to File : Parametric_Study_Models/retest_trained_linear_coords_selu_6x6x6x6x6x6x6x150__93.43__84.21.h5\n",
      "Saving Model to File : Parametric_Study_Models/retest_trained_linear_coords_selu_6x6x6x6x6x6x6x160__93.47__83.65.h5\n",
      "Saving Model to File : Parametric_Study_Models/retest_trained_linear_coords_selu_6x6x6x6x6x6x6x170__93.84__83.90.h5\n",
      "Saving Model to File : Parametric_Study_Models/retest_trained_linear_coords_selu_6x6x6x6x6x6x6x180__93.63__82.88.h5\n",
      "Saving Model to File : Parametric_Study_Models/retest_trained_linear_coords_selu_6x6x6x6x6x6x6x190__94.87__83.61.h5\n",
      "Saving Model to File : Parametric_Study_Models/retest_trained_linear_coords_selu_6x6x6x6x6x6x6x200__95.02__82.76.h5\n",
      "Training Permutations Complete!\n"
     ]
    }
   ],
   "source": [
    "###############################################\n",
    "### WARNING! This is for parametric study!  ###\n",
    "### This will take a very long time to run! ###\n",
    "###############################################\n",
    "\n",
    "list_of_multipliers = [3, 4, 5]\n",
    "list_of_num_of_layers = [2, 3, 4, 5, 6]\n",
    "list_of_middle_layer_activations = [\"relu\",\"selu\"]\n",
    "list_of_final_activations = [\"linear\"]\n",
    "\n",
    "list_of_multipliers = [4, 5, 6]\n",
    "list_of_num_of_layers = [4, 5, 6, 7]\n",
    "\n",
    "num_inputs = X_train_scaled[0].size\n",
    "epoch_start = 20\n",
    "epoch_inc = 10\n",
    "epoch_stop = 200\n",
    "\n",
    "verbosity = 0\n",
    "\n",
    "this_is_not_a_drill = True\n",
    "base_file_name = \"Parametric_Study_Models/retest_trained_linear_coords_\" \n",
    "\n",
    "\n",
    "for mid_activation in list_of_middle_layer_activations:\n",
    "\n",
    "    activation_file_name = f\"{mid_activation}_\"\n",
    "    for multiplier in list_of_multipliers:\n",
    "\n",
    "        num_units = multiplier * num_inputs\n",
    "\n",
    "        for num_of_layers in list_of_num_of_layers:\n",
    "\n",
    "            ### Construct the model layers ###\n",
    "            \n",
    "            #print(\"New Model\")\n",
    "            model = Sequential()\n",
    "            #print(\"Adding first layer\")\n",
    "            model.add(Dense(units=num_units, activation=mid_activation, input_dim=num_inputs))\n",
    "            multiplier_file_name = f\"{multiplier}x\"\n",
    "\n",
    "            for i in range(num_of_layers-1):\n",
    "\n",
    "                #print(\"Adding another layer\")\n",
    "                model.add(Dense(units=num_units, activation=mid_activation))\n",
    "                multiplier_file_name += f\"{multiplier}x\"\n",
    "\n",
    "            #print(\"Adding final layer\")\n",
    "            #model.add(Dense(units=20, activation='softmax'))  # Classification\n",
    "            model.add(Dense(units=1, activation='linear'))  # Regression\n",
    "        \n",
    "        \n",
    "            ### Compile the Model ###\n",
    "            \n",
    "            if this_is_not_a_drill:\n",
    "                model.compile(optimizer='adam',\n",
    "                    loss='mean_squared_error'#,\n",
    "                    #metrics=['accuracy']\n",
    "                    )\n",
    "    \n",
    "            if not this_is_not_a_drill:\n",
    "                model.summary()\n",
    "    \n",
    "            ### Begin fitting the model ###\n",
    "        \n",
    "            First_Pass = True\n",
    "            epoch_cnt = epoch_start\n",
    "            \n",
    "            ### Continue to increase the epochs and measure the r2 incrementally ###\n",
    "            while epoch_cnt <= epoch_stop:\n",
    "\n",
    "                if First_Pass:\n",
    "                    First_Pass = False\n",
    "                    epoch_file_name = f\"{epoch_start}_\"\n",
    "                    if this_is_not_a_drill:\n",
    "                        model.fit(\n",
    "                            X_train_scaled,\n",
    "                            y_train,\n",
    "                            epochs=epoch_start,\n",
    "                            shuffle=True,\n",
    "                            verbose=verbosity\n",
    "                            )\n",
    "                else:\n",
    "                    epoch_file_name = f\"{epoch_cnt}_\"\n",
    "                    if this_is_not_a_drill:\n",
    "                        model.fit(\n",
    "                            X_train_scaled,\n",
    "                            y_train,\n",
    "                            epochs=epoch_inc,\n",
    "                            shuffle=True,\n",
    "                            verbose=verbosity\n",
    "                            )\n",
    "\n",
    "                ### Evaluate the model's performance ###\n",
    "                \n",
    "                if this_is_not_a_drill:\n",
    "                    y_train_pred = model.predict(X_train_scaled)\n",
    "                    y_test_pred = model.predict(X_test_scaled)\n",
    "\n",
    "                    train_value = r2_score(y_train, y_train_pred)\n",
    "                    test_value = r2_score(y_test, y_test_pred)\n",
    "\n",
    "                    train_value_pct = \"{:.2f}\".format(train_value * 100)\n",
    "                    test_value_pct = \"{:.2f}\".format(test_value * 100)\n",
    "                    \n",
    "                else:\n",
    "                    train_value_pct = \"{:.2f}\".format(0.31415926 * 100)\n",
    "                    test_value_pct = \"{:.2f}\".format(0.31415926 * 100)\n",
    "\n",
    "                #print(train_value_pct)\n",
    "                #print(test_value_pct)\n",
    "\n",
    "                epoch_file_name += f\"_{train_value_pct}__{test_value_pct}.h5\"\n",
    "                full_file_name = f\"{base_file_name}{activation_file_name}{multiplier_file_name}{epoch_file_name}\"\n",
    "                \n",
    "                print(f\"Saving Model to File : {full_file_name}\")\n",
    "\n",
    "                if this_is_not_a_drill:\n",
    "                    model.save(full_file_name)\n",
    "                \n",
    "                # Increment for the next iteration of the while-loop\n",
    "                epoch_cnt += epoch_inc\n",
    "\n",
    "print(\"Training Permutations Complete!\")\n"
   ]
  },
  {
   "cell_type": "code",
   "execution_count": null,
   "metadata": {},
   "outputs": [],
   "source": [
    "### Use and modify this command in your bash window to find the best performers\n",
    "# ls -salt *__85.[0-9][0-9].h5"
   ]
  }
 ],
 "metadata": {
  "kernelspec": {
   "display_name": "Python 3",
   "language": "python",
   "name": "python3"
  },
  "language_info": {
   "codemirror_mode": {
    "name": "ipython",
    "version": 3
   },
   "file_extension": ".py",
   "mimetype": "text/x-python",
   "name": "python",
   "nbconvert_exporter": "python",
   "pygments_lexer": "ipython3",
   "version": "3.6.12"
  },
  "varInspector": {
   "cols": {
    "lenName": 16,
    "lenType": 16,
    "lenVar": 40
   },
   "kernels_config": {
    "python": {
     "delete_cmd_postfix": "",
     "delete_cmd_prefix": "del ",
     "library": "var_list.py",
     "varRefreshCmd": "print(var_dic_list())"
    },
    "r": {
     "delete_cmd_postfix": ") ",
     "delete_cmd_prefix": "rm(",
     "library": "var_list.r",
     "varRefreshCmd": "cat(var_dic_list()) "
    }
   },
   "types_to_exclude": [
    "module",
    "function",
    "builtin_function_or_method",
    "instance",
    "_Feature"
   ],
   "window_display": false
  }
 },
 "nbformat": 4,
 "nbformat_minor": 4
}
